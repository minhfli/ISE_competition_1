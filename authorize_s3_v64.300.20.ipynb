{
 "cells": [
  {
   "cell_type": "code",
   "execution_count": 1,
   "id": "81f72134",
   "metadata": {
    "execution": {
     "iopub.execute_input": "2024-03-14T02:45:58.900652Z",
     "iopub.status.busy": "2024-03-14T02:45:58.900163Z",
     "iopub.status.idle": "2024-03-14T02:46:00.055738Z",
     "shell.execute_reply": "2024-03-14T02:46:00.054532Z"
    },
    "papermill": {
     "duration": 1.167855,
     "end_time": "2024-03-14T02:46:00.058605",
     "exception": false,
     "start_time": "2024-03-14T02:45:58.890750",
     "status": "completed"
    },
    "tags": []
   },
   "outputs": [
    {
     "name": "stdout",
     "output_type": "stream",
     "text": [
      "/kaggle/input/ise-competition-1/sample_submission/sample_submission.csv\n",
      "/kaggle/input/ise-competition-1/test/test.csv\n",
      "/kaggle/input/ise-competition-1/train/train.csv\n",
      "/kaggle/input/glove6b/glove.6B.200d.txt\n",
      "/kaggle/input/glove6b/glove.6B.50d.txt\n",
      "/kaggle/input/glove6b/glove.6B.300d.txt\n",
      "/kaggle/input/glove6b/glove.6B.100d.txt\n"
     ]
    }
   ],
   "source": [
    "\n",
    "import re\n",
    "import numpy as np # linear algebra\n",
    "import pandas as pd # data processing, CSV file I/O (e.g. pd.read_csv)\n",
    "def read_glove_vecs(glove_file):\n",
    "    with open(glove_file, 'r') as f:\n",
    "        words = set()\n",
    "        word_to_vec_map = {}\n",
    "        for line in f:\n",
    "            line = line.strip().split()\n",
    "            curr_word = line[0]\n",
    "            words.add(curr_word)\n",
    "            word_to_vec_map[curr_word] = np.array(line[1:], dtype=np.float64)\n",
    "        \n",
    "        i = 1\n",
    "        words_to_index = {}\n",
    "        index_to_words = {}\n",
    "        for w in sorted(words):\n",
    "            words_to_index[w] = i\n",
    "            index_to_words[i] = w\n",
    "            i = i + 1\n",
    "    return words_to_index, index_to_words, word_to_vec_map\n",
    "\n",
    "def softmax(x):\n",
    "    \"\"\"Compute softmax values for each sets of scores in x.\"\"\"\n",
    "    e_x = np.exp(x - np.max(x))\n",
    "    return e_x / e_x.sum()\n",
    "\n",
    "\n",
    "def one_hot(array):\n",
    "    unique, inverse = np.unique(array, return_inverse=True)\n",
    "    onehot = np.eye(unique.shape[0])[inverse]\n",
    "    return unique,onehot\n",
    "def slice_sequence(sentence):\n",
    "    return re.findall(r'\"|\\'|\\w+|\\S+', sentence.lower())\n",
    "# Input data files are available in the read-only \"../input/\" directory\n",
    "# For example, running this (by clicking run or pressing Shift+Enter) will list all files under the input directory\n",
    "import os\n",
    "for dirname, _, filenames in os.walk('/kaggle/input'):\n",
    "    for filename in filenames:\n",
    "        print(os.path.join(dirname, filename))\n"
   ]
  },
  {
   "cell_type": "code",
   "execution_count": 2,
   "id": "872ba5dc",
   "metadata": {
    "execution": {
     "iopub.execute_input": "2024-03-14T02:46:00.074028Z",
     "iopub.status.busy": "2024-03-14T02:46:00.073132Z",
     "iopub.status.idle": "2024-03-14T02:46:00.078728Z",
     "shell.execute_reply": "2024-03-14T02:46:00.077339Z"
    },
    "papermill": {
     "duration": 0.01643,
     "end_time": "2024-03-14T02:46:00.081492",
     "exception": false,
     "start_time": "2024-03-14T02:46:00.065062",
     "status": "completed"
    },
    "tags": []
   },
   "outputs": [],
   "source": [
    "maxLen=64\n",
    "minLen=0\n",
    "embed=300\n",
    "epochs=20"
   ]
  },
  {
   "cell_type": "code",
   "execution_count": 3,
   "id": "c740d821",
   "metadata": {
    "execution": {
     "iopub.execute_input": "2024-03-14T02:46:00.096217Z",
     "iopub.status.busy": "2024-03-14T02:46:00.095753Z",
     "iopub.status.idle": "2024-03-14T02:46:03.303005Z",
     "shell.execute_reply": "2024-03-14T02:46:03.301148Z"
    },
    "papermill": {
     "duration": 3.219226,
     "end_time": "2024-03-14T02:46:03.306915",
     "exception": false,
     "start_time": "2024-03-14T02:46:00.087689",
     "status": "completed"
    },
    "tags": []
   },
   "outputs": [
    {
     "name": "stdout",
     "output_type": "stream",
     "text": [
      "['EAP' 'HPL' 'MWS']\n"
     ]
    }
   ],
   "source": [
    "train_csv=pd.read_csv(\"/kaggle/input/ise-competition-1/train/train.csv\")\n",
    "train=train_csv.to_numpy(dtype=str)\n",
    "id = train[:,0]\n",
    "seq = train[:,1]\n",
    "out = train[:,2]\n",
    "possible_output,Y_train=one_hot(out)\n",
    "print(possible_output)\n"
   ]
  },
  {
   "cell_type": "code",
   "execution_count": 4,
   "id": "37f4dbb3",
   "metadata": {
    "execution": {
     "iopub.execute_input": "2024-03-14T02:46:03.324043Z",
     "iopub.status.busy": "2024-03-14T02:46:03.323553Z",
     "iopub.status.idle": "2024-03-14T02:46:04.677076Z",
     "shell.execute_reply": "2024-03-14T02:46:04.675625Z"
    },
    "papermill": {
     "duration": 1.366027,
     "end_time": "2024-03-14T02:46:04.680778",
     "exception": false,
     "start_time": "2024-03-14T02:46:03.314751",
     "status": "completed"
    },
    "tags": []
   },
   "outputs": [
    {
     "name": "stdout",
     "output_type": "stream",
     "text": [
      "\"PIQUANT EXPRESSIONS.\n",
      "['\"', 'piquant', 'expressions', '.']\n"
     ]
    }
   ],
   "source": [
    "longest = max(seq, key=lambda x: len(re.findall(r'\\w+|\\S+', x.lower())))\n",
    "shortest= min(seq, key=lambda x: len(re.findall(r'\\w+|\\S+', x.lower())))\n",
    "#print (longest)\n",
    "print(shortest)\n",
    "print(slice_sequence(shortest))\n",
    "#maxLen = len(re.findall(r'\\w+|\\S+', longest.lower()))\n",
    "#maxLen = min(maxLen,200)"
   ]
  },
  {
   "cell_type": "code",
   "execution_count": 5,
   "id": "95c04f91",
   "metadata": {
    "execution": {
     "iopub.execute_input": "2024-03-14T02:46:04.696336Z",
     "iopub.status.busy": "2024-03-14T02:46:04.695889Z",
     "iopub.status.idle": "2024-03-14T02:46:48.567727Z",
     "shell.execute_reply": "2024-03-14T02:46:48.566636Z"
    },
    "papermill": {
     "duration": 43.882865,
     "end_time": "2024-03-14T02:46:48.570549",
     "exception": false,
     "start_time": "2024-03-14T02:46:04.687684",
     "status": "completed"
    },
    "tags": []
   },
   "outputs": [],
   "source": [
    "word_to_index, index_to_word, word_to_vec_map = read_glove_vecs(f'/kaggle/input/glove6b/glove.6B.{embed}d.txt')"
   ]
  },
  {
   "cell_type": "code",
   "execution_count": 6,
   "id": "9f58db78",
   "metadata": {
    "execution": {
     "iopub.execute_input": "2024-03-14T02:46:48.586107Z",
     "iopub.status.busy": "2024-03-14T02:46:48.585311Z",
     "iopub.status.idle": "2024-03-14T02:46:48.594997Z",
     "shell.execute_reply": "2024-03-14T02:46:48.593679Z"
    },
    "papermill": {
     "duration": 0.020997,
     "end_time": "2024-03-14T02:46:48.598028",
     "exception": false,
     "start_time": "2024-03-14T02:46:48.577031",
     "status": "completed"
    },
    "tags": []
   },
   "outputs": [],
   "source": [
    "# tokenize and create format\n",
    "def sentences_to_indices(X, word_to_index, max_len):\n",
    "    \"\"\"\n",
    "    Converts an array of sentences (strings) into an array of indices corresponding to words in the sentences.\n",
    "    The output shape should be such that it can be given to `Embedding()` \n",
    "    \n",
    "    Arguments:\n",
    "    X -- array of sentences (strings), of shape (m,)\n",
    "    word_to_index -- a dictionary containing the each word mapped to its index\n",
    "    max_len -- maximum number of words in a sentence. You can assume every sentence in X is no longer than this. \n",
    "    \n",
    "    Returns:\n",
    "    X_indices -- array of indices corresponding to words in the sentences from X, of shape (m, max_len)\n",
    "    \"\"\"\n",
    "    \n",
    "    m = X.shape[0]                                   # number of training examples\n",
    "    \n",
    "    # Initialize X_indices as a numpy matrix of zeros and the correct shape (≈ 1 line)\n",
    "    X_indices = np.zeros((m,max_len))\n",
    "    \n",
    "    for i in range(m):                               # loop over training examples\n",
    "        # Convert the ith training sentence to lower case and split it into words\n",
    "        sentence_words= slice_sequence(X[i])\n",
    "        # Initialize j to 0\n",
    "        j = 0\n",
    "        if (i<5):\n",
    "            debug=True\n",
    "        # Loop over the words of sentence_words\n",
    "        for w in sentence_words:\n",
    "            # if w exists in the word_to_index dictionary\n",
    "            if w in word_to_index:\n",
    "                # Set the (i,j)th entry of X_indices to the index of the correct word.\n",
    "                X_indices[i, j] = word_to_index[w]\n",
    "                j = j+1    \n",
    "                if j>=max_len:\n",
    "                    break\n",
    "    return X_indices"
   ]
  },
  {
   "cell_type": "code",
   "execution_count": 7,
   "id": "4745199e",
   "metadata": {
    "execution": {
     "iopub.execute_input": "2024-03-14T02:46:48.613604Z",
     "iopub.status.busy": "2024-03-14T02:46:48.613101Z",
     "iopub.status.idle": "2024-03-14T02:46:49.876853Z",
     "shell.execute_reply": "2024-03-14T02:46:49.875415Z"
    },
    "papermill": {
     "duration": 1.275565,
     "end_time": "2024-03-14T02:46:49.880244",
     "exception": false,
     "start_time": "2024-03-14T02:46:48.604679",
     "status": "completed"
    },
    "tags": []
   },
   "outputs": [
    {
     "name": "stdout",
     "output_type": "stream",
     "text": [
      "['This process, however, afforded me no means of ascertaining the dimensions of my dungeon; as I might make its circuit, and return to the point whence I set out, without being aware of the fact; so perfectly uniform seemed the wall.'\n",
      " 'It never once occurred to me that the fumbling might be a mere mistake.'\n",
      " 'In his left hand was a gold snuff box, from which, as he capered down the hill, cutting all manner of fantastic steps, he took snuff incessantly with an air of the greatest possible self satisfaction.'\n",
      " 'How lovely is spring As we looked from Windsor Terrace on the sixteen fertile counties spread beneath, speckled by happy cottages and wealthier towns, all looked as in former years, heart cheering and fair.'\n",
      " 'Finding nothing else, not even gold, the Superintendent abandoned his attempts; but a perplexed look occasionally steals over his countenance as he sits thinking at his desk.']\n",
      "[[358161 292849    452 182574    452  47561 239106 262351 239198 268047\n",
      "   60830 357267 124214 268047 254259 130811  42950  60666 185458 243978\n",
      "  231459 193920 101461    452  54719 307030 360916 357267 287480 386426\n",
      "  185458 325900 272931    452 388757  72183  64318 268047 357267 143955\n",
      "   42950 336115 281284 372015 323427 357267 382655    867      0      0\n",
      "       0      0      0      0      0      0      0      0      0      0\n",
      "       0      0      0      0]\n",
      " [193717 259915 269890 267459 360916 239106 357213 357267 155155 243978\n",
      "   71091  43011 241336 246351    867      0      0      0      0      0\n",
      "       0      0      0      0      0      0      0      0      0      0\n",
      "       0      0      0      0      0      0      0      0      0      0\n",
      "       0      0      0      0      0      0      0      0      0      0\n",
      "       0      0      0      0      0      0      0      0      0      0\n",
      "       0      0      0      0]\n",
      " [188482 179435 219578 172467 383515  43011 163827 336083  82219    452\n",
      "  154324 386475    452  60666 175200 128528 357267 178829    452 114254\n",
      "   51583 233321 268047 144909 342883    452 175200 361954 336083 188761\n",
      "  388712  54274  49060 268047 357267 166403 289447 323982 319033    867\n",
      "       0      0      0      0      0      0      0      0      0      0\n",
      "       0      0      0      0      0      0      0      0      0      0\n",
      "       0      0      0      0]\n",
      " [182541 226327 192974 340238  60666 384375 225640 154324 388125 356251\n",
      "  269799 357267 333365 147248 110424 340206  73068    452 339061  88127\n",
      "  173082 110049  54719 384410 363143    452  51583 225640  60666 188482\n",
      "  151781 393336    452 175450  97856  54719 144250    867      0      0\n",
      "       0      0      0      0      0      0      0      0      0      0\n",
      "       0      0      0      0      0      0      0      0      0      0\n",
      "       0      0      0      0]\n",
      " [148434 264613 135870    452 264551 141817 163827    452 357267 347945\n",
      "   43797 179435  62700  42950  87776  43011 281738 225630 267399 342245\n",
      "  273429 179435 110236  60666 175200 333162 357981  62066 179435 121892\n",
      "     867      0      0      0      0      0      0      0      0      0\n",
      "       0      0      0      0      0      0      0      0      0      0\n",
      "       0      0      0      0      0      0      0      0      0      0\n",
      "       0      0      0      0]]\n",
      "[[1. 0. 0.]\n",
      " [0. 1. 0.]\n",
      " [1. 0. 0.]\n",
      " [0. 0. 1.]\n",
      " [0. 1. 0.]]\n"
     ]
    }
   ],
   "source": [
    "print(seq[0:5])\n",
    "\n",
    "X_train=sentences_to_indices(seq, word_to_index, maxLen)\n",
    "print(np.int32(X_train[0:5]))\n",
    "print(Y_train[0:5])\n"
   ]
  },
  {
   "cell_type": "code",
   "execution_count": 8,
   "id": "1d3bc145",
   "metadata": {
    "execution": {
     "iopub.execute_input": "2024-03-14T02:46:49.896056Z",
     "iopub.status.busy": "2024-03-14T02:46:49.895663Z",
     "iopub.status.idle": "2024-03-14T02:47:06.767909Z",
     "shell.execute_reply": "2024-03-14T02:47:06.766483Z"
    },
    "papermill": {
     "duration": 16.883919,
     "end_time": "2024-03-14T02:47:06.771238",
     "exception": false,
     "start_time": "2024-03-14T02:46:49.887319",
     "status": "completed"
    },
    "tags": []
   },
   "outputs": [
    {
     "name": "stderr",
     "output_type": "stream",
     "text": [
      "2024-03-14 02:46:52.358587: E external/local_xla/xla/stream_executor/cuda/cuda_dnn.cc:9261] Unable to register cuDNN factory: Attempting to register factory for plugin cuDNN when one has already been registered\n",
      "2024-03-14 02:46:52.358791: E external/local_xla/xla/stream_executor/cuda/cuda_fft.cc:607] Unable to register cuFFT factory: Attempting to register factory for plugin cuFFT when one has already been registered\n",
      "2024-03-14 02:46:52.544748: E external/local_xla/xla/stream_executor/cuda/cuda_blas.cc:1515] Unable to register cuBLAS factory: Attempting to register factory for plugin cuBLAS when one has already been registered\n"
     ]
    }
   ],
   "source": [
    "import tensorflow\n",
    "np.random.seed(0)\n",
    "from tensorflow.keras.models import Model\n",
    "from tensorflow.keras.layers import Dense, Input, Dropout, LSTM, Activation\n",
    "from tensorflow.keras.layers import Embedding\n",
    "from tensorflow.keras.preprocessing import sequence\n",
    "from tensorflow.keras.initializers import glorot_uniform\n",
    "np.random.seed(1)"
   ]
  },
  {
   "cell_type": "code",
   "execution_count": 9,
   "id": "df5bd0ac",
   "metadata": {
    "execution": {
     "iopub.execute_input": "2024-03-14T02:47:06.788340Z",
     "iopub.status.busy": "2024-03-14T02:47:06.787393Z",
     "iopub.status.idle": "2024-03-14T02:47:06.799405Z",
     "shell.execute_reply": "2024-03-14T02:47:06.797547Z"
    },
    "papermill": {
     "duration": 0.023723,
     "end_time": "2024-03-14T02:47:06.802221",
     "exception": false,
     "start_time": "2024-03-14T02:47:06.778498",
     "status": "completed"
    },
    "tags": []
   },
   "outputs": [],
   "source": [
    "def pretrained_embedding_layer(word_to_vec_map, word_to_index):\n",
    "    \"\"\"\n",
    "    Creates a Keras Embedding() layer and loads in pre-trained GloVe 50-dimensional vectors.\n",
    "    \n",
    "    Arguments:\n",
    "    word_to_vec_map -- dictionary mapping words to their GloVe vector representation.\n",
    "    word_to_index -- dictionary mapping from words to their indices in the vocabulary (400,001 words)\n",
    "\n",
    "    Returns:\n",
    "    embedding_layer -- pretrained layer Keras instance\n",
    "    \"\"\"\n",
    "    \n",
    "    vocab_size = len(word_to_index) + 1              # adding 1 to fit Keras embedding (requirement)\n",
    "    any_word = next(iter(word_to_vec_map.keys()))\n",
    "    emb_dim = word_to_vec_map[any_word].shape[0]    # define dimensionality of your GloVe word vectors (= 50)\n",
    "      \n",
    "    # Initialize the embedding matrix as a numpy array of zeros.\n",
    "    emb_matrix = np.zeros((vocab_size,emb_dim))\n",
    "    \n",
    "    # Set each row \"idx\" of the embedding matrix to be \n",
    "    # the word vector representation of the idx'th word of the vocabulary\n",
    "    for word, idx in word_to_index.items():\n",
    "        emb_matrix[idx, :] = word_to_vec_map[word]\n",
    "\n",
    "    # Define Keras embedding layer with the correct input and output sizes\n",
    "    # Make it non-trainable.\n",
    "    embedding_layer = Embedding(vocab_size,emb_dim)\n",
    "\n",
    "    # Build the embedding layer, it is required before setting the weights of the embedding layer. \n",
    "    embedding_layer.build((None,)) # Do not modify the \"None\".  This line of code is complete as-is.\n",
    "    # Set the weights of the embedding layer to the embedding matrix. Your layer is now pretrained.\n",
    "    embedding_layer.set_weights([emb_matrix])\n",
    "    embedding_layer.trainable = False\n",
    "\n",
    "    return embedding_layer"
   ]
  },
  {
   "cell_type": "code",
   "execution_count": 10,
   "id": "2a252cad",
   "metadata": {
    "execution": {
     "iopub.execute_input": "2024-03-14T02:47:06.818777Z",
     "iopub.status.busy": "2024-03-14T02:47:06.817723Z",
     "iopub.status.idle": "2024-03-14T02:47:06.828315Z",
     "shell.execute_reply": "2024-03-14T02:47:06.826855Z"
    },
    "papermill": {
     "duration": 0.021712,
     "end_time": "2024-03-14T02:47:06.830886",
     "exception": false,
     "start_time": "2024-03-14T02:47:06.809174",
     "status": "completed"
    },
    "tags": []
   },
   "outputs": [],
   "source": [
    "# Model Authorize_s3\n",
    "\n",
    "def Authorize_s3(input_shape,softmax_size, word_to_vec_map, word_to_index):\n",
    "    \"\"\"\n",
    "    Function creating the Emojify-v2 model's graph.\n",
    "    \n",
    "    Arguments:\n",
    "    input_shape -- shape of the input, usually (max_len,)\n",
    "    word_to_vec_map -- dictionary mapping every word in a vocabulary into its 50-dimensional vector representation\n",
    "    word_to_index -- dictionary mapping from words to their indices in the vocabulary (400,001 words)\n",
    "\n",
    "    Returns:\n",
    "    model -- a model instance in Keras\n",
    "    \"\"\"\n",
    "    \n",
    "    # Define sentence_indices as the input of the graph.\n",
    "    # It should be of shape input_shape and dtype 'int32' (as it contains indices, which are integers).\n",
    "    sentence_indices = Input(shape=input_shape,dtype='int32')\n",
    "    # Create the embedding layer pretrained with GloVe Vectors (≈1 line)\n",
    "    embedding_layer = pretrained_embedding_layer(word_to_vec_map,word_to_index)\n",
    "    # Propagate sentence_indices through your embedding layer\n",
    "    embeddings = embedding_layer(sentence_indices)   \n",
    "    \n",
    "    # Propagate the embeddings through an LSTM layer with 128-dimensional hidden state\n",
    "    # The returned output should be a batch of sequences.\n",
    "    X = LSTM(units=256,return_sequences=True)(embeddings)\n",
    "    # Add dropout with a probability of 0.5\n",
    "    X = Dropout(0.5)(X)\n",
    "    # Propagate X trough another LSTM layer with 128-dimensional hidden state\n",
    "    # The returned output should be a single hidden state, not a batch of sequences.\n",
    "    X = LSTM(units=256,return_sequences=False)(X)\n",
    "    # Add dropout with a probability of 0.5\n",
    "    X = Dropout(0.5)(X)\n",
    "    # Propagate X through a Dense layer \n",
    "    X = Dense(softmax_size)(X)\n",
    "    # Add a softmax activation\n",
    "    X = Activation('softmax')(X)\n",
    "    \n",
    "    # Create Model instance which converts sentence_indices into X.\n",
    "    model = Model(sentence_indices,X)\n",
    "        \n",
    "    return model"
   ]
  },
  {
   "cell_type": "code",
   "execution_count": 11,
   "id": "c8e62046",
   "metadata": {
    "execution": {
     "iopub.execute_input": "2024-03-14T02:47:06.846711Z",
     "iopub.status.busy": "2024-03-14T02:47:06.846259Z",
     "iopub.status.idle": "2024-03-14T02:47:11.995532Z",
     "shell.execute_reply": "2024-03-14T02:47:11.994096Z"
    },
    "papermill": {
     "duration": 5.160522,
     "end_time": "2024-03-14T02:47:11.998325",
     "exception": false,
     "start_time": "2024-03-14T02:47:06.837803",
     "status": "completed"
    },
    "tags": []
   },
   "outputs": [
    {
     "data": {
      "text/html": [
       "<pre style=\"white-space:pre;overflow-x:auto;line-height:normal;font-family:Menlo,'DejaVu Sans Mono',consolas,'Courier New',monospace\"><span style=\"font-weight: bold\">Model: \"functional_1\"</span>\n",
       "</pre>\n"
      ],
      "text/plain": [
       "\u001b[1mModel: \"functional_1\"\u001b[0m\n"
      ]
     },
     "metadata": {},
     "output_type": "display_data"
    },
    {
     "data": {
      "text/html": [
       "<pre style=\"white-space:pre;overflow-x:auto;line-height:normal;font-family:Menlo,'DejaVu Sans Mono',consolas,'Courier New',monospace\">┏━━━━━━━━━━━━━━━━━━━━━━━━━━━━━━━━━┳━━━━━━━━━━━━━━━━━━━━━━━━┳━━━━━━━━━━━━━━━┓\n",
       "┃<span style=\"font-weight: bold\"> Layer (type)                    </span>┃<span style=\"font-weight: bold\"> Output Shape           </span>┃<span style=\"font-weight: bold\">       Param # </span>┃\n",
       "┡━━━━━━━━━━━━━━━━━━━━━━━━━━━━━━━━━╇━━━━━━━━━━━━━━━━━━━━━━━━╇━━━━━━━━━━━━━━━┩\n",
       "│ input_layer (<span style=\"color: #0087ff; text-decoration-color: #0087ff\">InputLayer</span>)        │ (<span style=\"color: #00d7ff; text-decoration-color: #00d7ff\">None</span>, <span style=\"color: #00af00; text-decoration-color: #00af00\">64</span>)             │             <span style=\"color: #00af00; text-decoration-color: #00af00\">0</span> │\n",
       "├─────────────────────────────────┼────────────────────────┼───────────────┤\n",
       "│ embedding (<span style=\"color: #0087ff; text-decoration-color: #0087ff\">Embedding</span>)           │ (<span style=\"color: #00d7ff; text-decoration-color: #00d7ff\">None</span>, <span style=\"color: #00af00; text-decoration-color: #00af00\">64</span>, <span style=\"color: #00af00; text-decoration-color: #00af00\">300</span>)        │   <span style=\"color: #00af00; text-decoration-color: #00af00\">120,000,600</span> │\n",
       "├─────────────────────────────────┼────────────────────────┼───────────────┤\n",
       "│ lstm (<span style=\"color: #0087ff; text-decoration-color: #0087ff\">LSTM</span>)                     │ (<span style=\"color: #00d7ff; text-decoration-color: #00d7ff\">None</span>, <span style=\"color: #00af00; text-decoration-color: #00af00\">64</span>, <span style=\"color: #00af00; text-decoration-color: #00af00\">256</span>)        │       <span style=\"color: #00af00; text-decoration-color: #00af00\">570,368</span> │\n",
       "├─────────────────────────────────┼────────────────────────┼───────────────┤\n",
       "│ dropout (<span style=\"color: #0087ff; text-decoration-color: #0087ff\">Dropout</span>)               │ (<span style=\"color: #00d7ff; text-decoration-color: #00d7ff\">None</span>, <span style=\"color: #00af00; text-decoration-color: #00af00\">64</span>, <span style=\"color: #00af00; text-decoration-color: #00af00\">256</span>)        │             <span style=\"color: #00af00; text-decoration-color: #00af00\">0</span> │\n",
       "├─────────────────────────────────┼────────────────────────┼───────────────┤\n",
       "│ lstm_1 (<span style=\"color: #0087ff; text-decoration-color: #0087ff\">LSTM</span>)                   │ (<span style=\"color: #00d7ff; text-decoration-color: #00d7ff\">None</span>, <span style=\"color: #00af00; text-decoration-color: #00af00\">256</span>)            │       <span style=\"color: #00af00; text-decoration-color: #00af00\">525,312</span> │\n",
       "├─────────────────────────────────┼────────────────────────┼───────────────┤\n",
       "│ dropout_1 (<span style=\"color: #0087ff; text-decoration-color: #0087ff\">Dropout</span>)             │ (<span style=\"color: #00d7ff; text-decoration-color: #00d7ff\">None</span>, <span style=\"color: #00af00; text-decoration-color: #00af00\">256</span>)            │             <span style=\"color: #00af00; text-decoration-color: #00af00\">0</span> │\n",
       "├─────────────────────────────────┼────────────────────────┼───────────────┤\n",
       "│ dense (<span style=\"color: #0087ff; text-decoration-color: #0087ff\">Dense</span>)                   │ (<span style=\"color: #00d7ff; text-decoration-color: #00d7ff\">None</span>, <span style=\"color: #00af00; text-decoration-color: #00af00\">3</span>)              │           <span style=\"color: #00af00; text-decoration-color: #00af00\">771</span> │\n",
       "├─────────────────────────────────┼────────────────────────┼───────────────┤\n",
       "│ activation (<span style=\"color: #0087ff; text-decoration-color: #0087ff\">Activation</span>)         │ (<span style=\"color: #00d7ff; text-decoration-color: #00d7ff\">None</span>, <span style=\"color: #00af00; text-decoration-color: #00af00\">3</span>)              │             <span style=\"color: #00af00; text-decoration-color: #00af00\">0</span> │\n",
       "└─────────────────────────────────┴────────────────────────┴───────────────┘\n",
       "</pre>\n"
      ],
      "text/plain": [
       "┏━━━━━━━━━━━━━━━━━━━━━━━━━━━━━━━━━┳━━━━━━━━━━━━━━━━━━━━━━━━┳━━━━━━━━━━━━━━━┓\n",
       "┃\u001b[1m \u001b[0m\u001b[1mLayer (type)                   \u001b[0m\u001b[1m \u001b[0m┃\u001b[1m \u001b[0m\u001b[1mOutput Shape          \u001b[0m\u001b[1m \u001b[0m┃\u001b[1m \u001b[0m\u001b[1m      Param #\u001b[0m\u001b[1m \u001b[0m┃\n",
       "┡━━━━━━━━━━━━━━━━━━━━━━━━━━━━━━━━━╇━━━━━━━━━━━━━━━━━━━━━━━━╇━━━━━━━━━━━━━━━┩\n",
       "│ input_layer (\u001b[38;5;33mInputLayer\u001b[0m)        │ (\u001b[38;5;45mNone\u001b[0m, \u001b[38;5;34m64\u001b[0m)             │             \u001b[38;5;34m0\u001b[0m │\n",
       "├─────────────────────────────────┼────────────────────────┼───────────────┤\n",
       "│ embedding (\u001b[38;5;33mEmbedding\u001b[0m)           │ (\u001b[38;5;45mNone\u001b[0m, \u001b[38;5;34m64\u001b[0m, \u001b[38;5;34m300\u001b[0m)        │   \u001b[38;5;34m120,000,600\u001b[0m │\n",
       "├─────────────────────────────────┼────────────────────────┼───────────────┤\n",
       "│ lstm (\u001b[38;5;33mLSTM\u001b[0m)                     │ (\u001b[38;5;45mNone\u001b[0m, \u001b[38;5;34m64\u001b[0m, \u001b[38;5;34m256\u001b[0m)        │       \u001b[38;5;34m570,368\u001b[0m │\n",
       "├─────────────────────────────────┼────────────────────────┼───────────────┤\n",
       "│ dropout (\u001b[38;5;33mDropout\u001b[0m)               │ (\u001b[38;5;45mNone\u001b[0m, \u001b[38;5;34m64\u001b[0m, \u001b[38;5;34m256\u001b[0m)        │             \u001b[38;5;34m0\u001b[0m │\n",
       "├─────────────────────────────────┼────────────────────────┼───────────────┤\n",
       "│ lstm_1 (\u001b[38;5;33mLSTM\u001b[0m)                   │ (\u001b[38;5;45mNone\u001b[0m, \u001b[38;5;34m256\u001b[0m)            │       \u001b[38;5;34m525,312\u001b[0m │\n",
       "├─────────────────────────────────┼────────────────────────┼───────────────┤\n",
       "│ dropout_1 (\u001b[38;5;33mDropout\u001b[0m)             │ (\u001b[38;5;45mNone\u001b[0m, \u001b[38;5;34m256\u001b[0m)            │             \u001b[38;5;34m0\u001b[0m │\n",
       "├─────────────────────────────────┼────────────────────────┼───────────────┤\n",
       "│ dense (\u001b[38;5;33mDense\u001b[0m)                   │ (\u001b[38;5;45mNone\u001b[0m, \u001b[38;5;34m3\u001b[0m)              │           \u001b[38;5;34m771\u001b[0m │\n",
       "├─────────────────────────────────┼────────────────────────┼───────────────┤\n",
       "│ activation (\u001b[38;5;33mActivation\u001b[0m)         │ (\u001b[38;5;45mNone\u001b[0m, \u001b[38;5;34m3\u001b[0m)              │             \u001b[38;5;34m0\u001b[0m │\n",
       "└─────────────────────────────────┴────────────────────────┴───────────────┘\n"
      ]
     },
     "metadata": {},
     "output_type": "display_data"
    },
    {
     "data": {
      "text/html": [
       "<pre style=\"white-space:pre;overflow-x:auto;line-height:normal;font-family:Menlo,'DejaVu Sans Mono',consolas,'Courier New',monospace\"><span style=\"font-weight: bold\"> Total params: </span><span style=\"color: #00af00; text-decoration-color: #00af00\">121,097,051</span> (461.95 MB)\n",
       "</pre>\n"
      ],
      "text/plain": [
       "\u001b[1m Total params: \u001b[0m\u001b[38;5;34m121,097,051\u001b[0m (461.95 MB)\n"
      ]
     },
     "metadata": {},
     "output_type": "display_data"
    },
    {
     "data": {
      "text/html": [
       "<pre style=\"white-space:pre;overflow-x:auto;line-height:normal;font-family:Menlo,'DejaVu Sans Mono',consolas,'Courier New',monospace\"><span style=\"font-weight: bold\"> Trainable params: </span><span style=\"color: #00af00; text-decoration-color: #00af00\">1,096,451</span> (4.18 MB)\n",
       "</pre>\n"
      ],
      "text/plain": [
       "\u001b[1m Trainable params: \u001b[0m\u001b[38;5;34m1,096,451\u001b[0m (4.18 MB)\n"
      ]
     },
     "metadata": {},
     "output_type": "display_data"
    },
    {
     "data": {
      "text/html": [
       "<pre style=\"white-space:pre;overflow-x:auto;line-height:normal;font-family:Menlo,'DejaVu Sans Mono',consolas,'Courier New',monospace\"><span style=\"font-weight: bold\"> Non-trainable params: </span><span style=\"color: #00af00; text-decoration-color: #00af00\">120,000,600</span> (457.77 MB)\n",
       "</pre>\n"
      ],
      "text/plain": [
       "\u001b[1m Non-trainable params: \u001b[0m\u001b[38;5;34m120,000,600\u001b[0m (457.77 MB)\n"
      ]
     },
     "metadata": {},
     "output_type": "display_data"
    }
   ],
   "source": [
    "model = Authorize_s3((maxLen,),len(possible_output), word_to_vec_map, word_to_index)\n",
    "model.layers[0].trainable = False\n",
    "model.summary()"
   ]
  },
  {
   "cell_type": "code",
   "execution_count": 12,
   "id": "6046911c",
   "metadata": {
    "execution": {
     "iopub.execute_input": "2024-03-14T02:47:12.018702Z",
     "iopub.status.busy": "2024-03-14T02:47:12.017689Z",
     "iopub.status.idle": "2024-03-14T02:47:12.036175Z",
     "shell.execute_reply": "2024-03-14T02:47:12.034914Z"
    },
    "papermill": {
     "duration": 0.031469,
     "end_time": "2024-03-14T02:47:12.039029",
     "exception": false,
     "start_time": "2024-03-14T02:47:12.007560",
     "status": "completed"
    },
    "tags": []
   },
   "outputs": [],
   "source": [
    "model.compile(loss='categorical_crossentropy',\n",
    "              optimizer=tensorflow.keras.optimizers.Adam(learning_rate=0.0003),\n",
    "              metrics=['accuracy'])"
   ]
  },
  {
   "cell_type": "code",
   "execution_count": 13,
   "id": "57fb73fd",
   "metadata": {
    "execution": {
     "iopub.execute_input": "2024-03-14T02:47:12.057403Z",
     "iopub.status.busy": "2024-03-14T02:47:12.056928Z",
     "iopub.status.idle": "2024-03-14T03:52:58.033335Z",
     "shell.execute_reply": "2024-03-14T03:52:58.030248Z"
    },
    "papermill": {
     "duration": 3946.606146,
     "end_time": "2024-03-14T03:52:58.653443",
     "exception": false,
     "start_time": "2024-03-14T02:47:12.047297",
     "status": "completed"
    },
    "tags": []
   },
   "outputs": [
    {
     "name": "stdout",
     "output_type": "stream",
     "text": [
      "Epoch 1/20\n",
      "\u001b[1m306/306\u001b[0m \u001b[32m━━━━━━━━━━━━━━━━━━━━\u001b[0m\u001b[37m\u001b[0m \u001b[1m183s\u001b[0m 585ms/step - accuracy: 0.5227 - loss: 0.9641\n",
      "Epoch 2/20\n",
      "\u001b[1m306/306\u001b[0m \u001b[32m━━━━━━━━━━━━━━━━━━━━\u001b[0m\u001b[37m\u001b[0m \u001b[1m190s\u001b[0m 620ms/step - accuracy: 0.7059 - loss: 0.7067\n",
      "Epoch 3/20\n",
      "\u001b[1m306/306\u001b[0m \u001b[32m━━━━━━━━━━━━━━━━━━━━\u001b[0m\u001b[37m\u001b[0m \u001b[1m194s\u001b[0m 594ms/step - accuracy: 0.7383 - loss: 0.6459\n",
      "Epoch 4/20\n",
      "\u001b[1m306/306\u001b[0m \u001b[32m━━━━━━━━━━━━━━━━━━━━\u001b[0m\u001b[37m\u001b[0m \u001b[1m203s\u001b[0m 599ms/step - accuracy: 0.7519 - loss: 0.6047\n",
      "Epoch 5/20\n",
      "\u001b[1m306/306\u001b[0m \u001b[32m━━━━━━━━━━━━━━━━━━━━\u001b[0m\u001b[37m\u001b[0m \u001b[1m203s\u001b[0m 604ms/step - accuracy: 0.7764 - loss: 0.5633\n",
      "Epoch 6/20\n",
      "\u001b[1m306/306\u001b[0m \u001b[32m━━━━━━━━━━━━━━━━━━━━\u001b[0m\u001b[37m\u001b[0m \u001b[1m200s\u001b[0m 596ms/step - accuracy: 0.7976 - loss: 0.5070\n",
      "Epoch 7/20\n",
      "\u001b[1m306/306\u001b[0m \u001b[32m━━━━━━━━━━━━━━━━━━━━\u001b[0m\u001b[37m\u001b[0m \u001b[1m186s\u001b[0m 607ms/step - accuracy: 0.8109 - loss: 0.4731\n",
      "Epoch 8/20\n",
      "\u001b[1m306/306\u001b[0m \u001b[32m━━━━━━━━━━━━━━━━━━━━\u001b[0m\u001b[37m\u001b[0m \u001b[1m185s\u001b[0m 604ms/step - accuracy: 0.8337 - loss: 0.4243\n",
      "Epoch 9/20\n",
      "\u001b[1m306/306\u001b[0m \u001b[32m━━━━━━━━━━━━━━━━━━━━\u001b[0m\u001b[37m\u001b[0m \u001b[1m202s\u001b[0m 604ms/step - accuracy: 0.8443 - loss: 0.3915\n",
      "Epoch 10/20\n",
      "\u001b[1m306/306\u001b[0m \u001b[32m━━━━━━━━━━━━━━━━━━━━\u001b[0m\u001b[37m\u001b[0m \u001b[1m201s\u001b[0m 601ms/step - accuracy: 0.8653 - loss: 0.3500\n",
      "Epoch 11/20\n",
      "\u001b[1m306/306\u001b[0m \u001b[32m━━━━━━━━━━━━━━━━━━━━\u001b[0m\u001b[37m\u001b[0m \u001b[1m200s\u001b[0m 596ms/step - accuracy: 0.8741 - loss: 0.3255\n",
      "Epoch 12/20\n",
      "\u001b[1m306/306\u001b[0m \u001b[32m━━━━━━━━━━━━━━━━━━━━\u001b[0m\u001b[37m\u001b[0m \u001b[1m205s\u001b[0m 605ms/step - accuracy: 0.8867 - loss: 0.2958\n",
      "Epoch 13/20\n",
      "\u001b[1m306/306\u001b[0m \u001b[32m━━━━━━━━━━━━━━━━━━━━\u001b[0m\u001b[37m\u001b[0m \u001b[1m200s\u001b[0m 599ms/step - accuracy: 0.9019 - loss: 0.2630\n",
      "Epoch 14/20\n",
      "\u001b[1m306/306\u001b[0m \u001b[32m━━━━━━━━━━━━━━━━━━━━\u001b[0m\u001b[37m\u001b[0m \u001b[1m204s\u001b[0m 606ms/step - accuracy: 0.9140 - loss: 0.2300\n",
      "Epoch 15/20\n",
      "\u001b[1m306/306\u001b[0m \u001b[32m━━━━━━━━━━━━━━━━━━━━\u001b[0m\u001b[37m\u001b[0m \u001b[1m183s\u001b[0m 597ms/step - accuracy: 0.9146 - loss: 0.2294\n",
      "Epoch 16/20\n",
      "\u001b[1m306/306\u001b[0m \u001b[32m━━━━━━━━━━━━━━━━━━━━\u001b[0m\u001b[37m\u001b[0m \u001b[1m205s\u001b[0m 608ms/step - accuracy: 0.9352 - loss: 0.1828\n",
      "Epoch 17/20\n",
      "\u001b[1m306/306\u001b[0m \u001b[32m━━━━━━━━━━━━━━━━━━━━\u001b[0m\u001b[37m\u001b[0m \u001b[1m203s\u001b[0m 612ms/step - accuracy: 0.9418 - loss: 0.1629\n",
      "Epoch 18/20\n",
      "\u001b[1m306/306\u001b[0m \u001b[32m━━━━━━━━━━━━━━━━━━━━\u001b[0m\u001b[37m\u001b[0m \u001b[1m196s\u001b[0m 594ms/step - accuracy: 0.9503 - loss: 0.1374\n",
      "Epoch 19/20\n",
      "\u001b[1m306/306\u001b[0m \u001b[32m━━━━━━━━━━━━━━━━━━━━\u001b[0m\u001b[37m\u001b[0m \u001b[1m200s\u001b[0m 589ms/step - accuracy: 0.9535 - loss: 0.1275\n",
      "Epoch 20/20\n",
      "\u001b[1m306/306\u001b[0m \u001b[32m━━━━━━━━━━━━━━━━━━━━\u001b[0m\u001b[37m\u001b[0m \u001b[1m183s\u001b[0m 598ms/step - accuracy: 0.9587 - loss: 0.1204\n"
     ]
    },
    {
     "data": {
      "text/plain": [
       "<keras.src.callbacks.history.History at 0x7d4c8478d660>"
      ]
     },
     "execution_count": 13,
     "metadata": {},
     "output_type": "execute_result"
    }
   ],
   "source": [
    "model.fit(X_train, Y_train, epochs = epochs, batch_size = 64, shuffle=True)"
   ]
  },
  {
   "cell_type": "code",
   "execution_count": 14,
   "id": "3f8bce84",
   "metadata": {
    "execution": {
     "iopub.execute_input": "2024-03-14T03:53:00.060578Z",
     "iopub.status.busy": "2024-03-14T03:53:00.059184Z",
     "iopub.status.idle": "2024-03-14T03:53:01.818802Z",
     "shell.execute_reply": "2024-03-14T03:53:01.817299Z"
    },
    "papermill": {
     "duration": 2.423999,
     "end_time": "2024-03-14T03:53:01.822008",
     "exception": false,
     "start_time": "2024-03-14T03:52:59.398009",
     "status": "completed"
    },
    "tags": []
   },
   "outputs": [],
   "source": [
    "model.save(f'/kaggle/working/model_len{maxLen}_embed{embed}_ep{epochs}.h5')\n"
   ]
  },
  {
   "cell_type": "code",
   "execution_count": 15,
   "id": "0b8f22e6",
   "metadata": {
    "execution": {
     "iopub.execute_input": "2024-03-14T03:53:03.065856Z",
     "iopub.status.busy": "2024-03-14T03:53:03.065371Z",
     "iopub.status.idle": "2024-03-14T03:53:04.246911Z",
     "shell.execute_reply": "2024-03-14T03:53:04.245662Z"
    },
    "papermill": {
     "duration": 1.80232,
     "end_time": "2024-03-14T03:53:04.250292",
     "exception": false,
     "start_time": "2024-03-14T03:53:02.447972",
     "status": "completed"
    },
    "tags": []
   },
   "outputs": [
    {
     "name": "stdout",
     "output_type": "stream",
     "text": [
      "['Still, as I urged our leaving Ireland with such inquietude and impatience, my father thought it best to yield.'\n",
      " 'If a fire wanted fanning, it could readily be fanned with a newspaper, and as the government grew weaker, I have no doubt that leather and iron acquired durability in proportion, for, in a very short time, there was not a pair of bellows in all Rotterdam that ever stood in need of a stitch or required the assistance of a hammer.'\n",
      " 'And when they had broken down the frail door they found only this: two cleanly picked human skeletons on the earthen floor, and a number of singular beetles crawling in the shadowy corners.'\n",
      " ...\n",
      " 'It is easily understood that what might improve a closely scrutinized detail, may at the same time injure a general or more distantly observed effect.'\n",
      " 'Be this as it may, I now began to feel the inspiration of a burning hope, and at length nurtured in my secret thoughts a stern and desperate resolution that I would submit no longer to be enslaved.'\n",
      " 'Long winded, statistical, and drearily genealogical as some of the matter was, there ran through it a continuous thread of brooding, tenacious horror and preternatural malevolence which impressed me even more than it had impressed the good doctor.']\n"
     ]
    }
   ],
   "source": [
    "test_csv=pd.read_csv(\"/kaggle/input/ise-competition-1/test/test.csv\")\n",
    "test=test_csv.to_numpy(dtype=str)\n",
    "id_test = test[:,0]\n",
    "seq_test = test[:,1]\n",
    "X_test=sentences_to_indices(seq_test, word_to_index, maxLen)\n",
    "print(seq_test)"
   ]
  },
  {
   "cell_type": "code",
   "execution_count": 16,
   "id": "d195ba3e",
   "metadata": {
    "execution": {
     "iopub.execute_input": "2024-03-14T03:53:05.468992Z",
     "iopub.status.busy": "2024-03-14T03:53:05.468519Z",
     "iopub.status.idle": "2024-03-14T03:54:27.483662Z",
     "shell.execute_reply": "2024-03-14T03:54:27.481997Z"
    },
    "papermill": {
     "duration": 82.634312,
     "end_time": "2024-03-14T03:54:27.486774",
     "exception": false,
     "start_time": "2024-03-14T03:53:04.852462",
     "status": "completed"
    },
    "tags": []
   },
   "outputs": [
    {
     "name": "stdout",
     "output_type": "stream",
     "text": [
      "\u001b[1m263/263\u001b[0m \u001b[32m━━━━━━━━━━━━━━━━━━━━\u001b[0m\u001b[37m\u001b[0m \u001b[1m42s\u001b[0m 160ms/step\n"
     ]
    }
   ],
   "source": [
    "Y_test= model.predict(X_test)\n"
   ]
  },
  {
   "cell_type": "code",
   "execution_count": 17,
   "id": "d9d4c963",
   "metadata": {
    "execution": {
     "iopub.execute_input": "2024-03-14T03:54:28.776137Z",
     "iopub.status.busy": "2024-03-14T03:54:28.775422Z",
     "iopub.status.idle": "2024-03-14T03:54:29.065380Z",
     "shell.execute_reply": "2024-03-14T03:54:29.063469Z"
    },
    "papermill": {
     "duration": 0.938108,
     "end_time": "2024-03-14T03:54:29.068217",
     "exception": false,
     "start_time": "2024-03-14T03:54:28.130109",
     "status": "completed"
    },
    "tags": []
   },
   "outputs": [
    {
     "name": "stdout",
     "output_type": "stream",
     "text": [
      "           id       EAP       HPL       MWS\n",
      "0     id02310  0.000424  0.000284  0.999292\n",
      "1     id24541  0.999249  0.000214  0.000537\n",
      "2     id00134  0.000643  0.999287  0.000070\n",
      "3     id27757  0.997031  0.000866  0.002103\n",
      "4     id04081  0.717889  0.246561  0.035550\n",
      "...       ...       ...       ...       ...\n",
      "8387  id11749  0.932659  0.011362  0.055978\n",
      "8388  id10526  0.000812  0.000272  0.998916\n",
      "8389  id13477  0.999022  0.000224  0.000753\n",
      "8390  id13761  0.545521  0.018544  0.435936\n",
      "8391  id04282  0.001000  0.998923  0.000076\n",
      "\n",
      "[8392 rows x 4 columns]\n"
     ]
    }
   ],
   "source": [
    "import csv\n",
    "#np.set_printoptions(formatter={'float': lambda x: \"{0:0.3f}\".format(x)})\n",
    "#print(Y_test)\n",
    "eap_i=0\n",
    "hpl_i=0\n",
    "mws_i=0\n",
    "for i in range(len(possible_output)):\n",
    "    if possible_output[i]==\"EAP\":\n",
    "        eap_i=i\n",
    "    if possible_output[i]==\"HPL\":\n",
    "        hpl_i=i\n",
    "    if possible_output[i]==\"MWS\":\n",
    "        mws_i=i\n",
    "predict = []\n",
    "for i in range(len(id_test)):\n",
    "    predict.append(\n",
    "        {\n",
    "            'id' : id_test[i],\n",
    "            'EAP': Y_test[i][eap_i],\n",
    "            'HPL': Y_test[i][hpl_i],\n",
    "            'MWS': Y_test[i][mws_i],\n",
    "        }\n",
    "    )\n",
    "print(pd.DataFrame(predict))\n",
    "pd.DataFrame(predict).to_csv(\"/kaggle/working/predict.csv\",\n",
    "                            index=False,\n",
    "                            quotechar='\"',\n",
    "                            quoting=csv.QUOTE_NONNUMERIC)\n"
   ]
  }
 ],
 "metadata": {
  "kaggle": {
   "accelerator": "none",
   "dataSources": [
    {
     "databundleVersionId": 7916195,
     "sourceId": 72272,
     "sourceType": "competition"
    },
    {
     "datasetId": 4589173,
     "sourceId": 7830641,
     "sourceType": "datasetVersion"
    }
   ],
   "dockerImageVersionId": 30664,
   "isGpuEnabled": false,
   "isInternetEnabled": true,
   "language": "python",
   "sourceType": "notebook"
  },
  "kernelspec": {
   "display_name": "Python 3",
   "language": "python",
   "name": "python3"
  },
  "language_info": {
   "codemirror_mode": {
    "name": "ipython",
    "version": 3
   },
   "file_extension": ".py",
   "mimetype": "text/x-python",
   "name": "python",
   "nbconvert_exporter": "python",
   "pygments_lexer": "ipython3",
   "version": "3.10.13"
  },
  "papermill": {
   "default_parameters": {},
   "duration": 4116.995684,
   "end_time": "2024-03-14T03:54:32.437699",
   "environment_variables": {},
   "exception": null,
   "input_path": "__notebook__.ipynb",
   "output_path": "__notebook__.ipynb",
   "parameters": {},
   "start_time": "2024-03-14T02:45:55.442015",
   "version": "2.5.0"
  }
 },
 "nbformat": 4,
 "nbformat_minor": 5
}
