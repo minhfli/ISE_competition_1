{
 "cells": [
  {
   "cell_type": "code",
   "execution_count": 1,
   "id": "13066228",
   "metadata": {
    "execution": {
     "iopub.execute_input": "2024-03-14T01:28:17.004156Z",
     "iopub.status.busy": "2024-03-14T01:28:17.003719Z",
     "iopub.status.idle": "2024-03-14T01:28:18.106696Z",
     "shell.execute_reply": "2024-03-14T01:28:18.105657Z"
    },
    "papermill": {
     "duration": 1.114361,
     "end_time": "2024-03-14T01:28:18.109524",
     "exception": false,
     "start_time": "2024-03-14T01:28:16.995163",
     "status": "completed"
    },
    "tags": []
   },
   "outputs": [
    {
     "name": "stdout",
     "output_type": "stream",
     "text": [
      "/kaggle/input/glove6b/glove.6B.200d.txt\n",
      "/kaggle/input/glove6b/glove.6B.50d.txt\n",
      "/kaggle/input/glove6b/glove.6B.300d.txt\n",
      "/kaggle/input/glove6b/glove.6B.100d.txt\n",
      "/kaggle/input/ise-competition-1/sample_submission/sample_submission.csv\n",
      "/kaggle/input/ise-competition-1/test/test.csv\n",
      "/kaggle/input/ise-competition-1/train/train.csv\n"
     ]
    }
   ],
   "source": [
    "\n",
    "import re\n",
    "import numpy as np # linear algebra\n",
    "import pandas as pd # data processing, CSV file I/O (e.g. pd.read_csv)\n",
    "def read_glove_vecs(glove_file):\n",
    "    with open(glove_file, 'r') as f:\n",
    "        words = set()\n",
    "        word_to_vec_map = {}\n",
    "        for line in f:\n",
    "            line = line.strip().split()\n",
    "            curr_word = line[0]\n",
    "            words.add(curr_word)\n",
    "            word_to_vec_map[curr_word] = np.array(line[1:], dtype=np.float64)\n",
    "        \n",
    "        i = 1\n",
    "        words_to_index = {}\n",
    "        index_to_words = {}\n",
    "        for w in sorted(words):\n",
    "            words_to_index[w] = i\n",
    "            index_to_words[i] = w\n",
    "            i = i + 1\n",
    "    return words_to_index, index_to_words, word_to_vec_map\n",
    "\n",
    "def softmax(x):\n",
    "    \"\"\"Compute softmax values for each sets of scores in x.\"\"\"\n",
    "    e_x = np.exp(x - np.max(x))\n",
    "    return e_x / e_x.sum()\n",
    "\n",
    "\n",
    "def one_hot(array):\n",
    "    unique, inverse = np.unique(array, return_inverse=True)\n",
    "    onehot = np.eye(unique.shape[0])[inverse]\n",
    "    return unique,onehot\n",
    "def slice_sequence(sentence):\n",
    "    return re.findall(r'\"|\\'|\\w+|\\S+', sentence.lower())\n",
    "# Input data files are available in the read-only \"../input/\" directory\n",
    "# For example, running this (by clicking run or pressing Shift+Enter) will list all files under the input directory\n",
    "import os\n",
    "for dirname, _, filenames in os.walk('/kaggle/input'):\n",
    "    for filename in filenames:\n",
    "        print(os.path.join(dirname, filename))\n"
   ]
  },
  {
   "cell_type": "code",
   "execution_count": 2,
   "id": "3bc79b24",
   "metadata": {
    "execution": {
     "iopub.execute_input": "2024-03-14T01:28:18.124205Z",
     "iopub.status.busy": "2024-03-14T01:28:18.123640Z",
     "iopub.status.idle": "2024-03-14T01:28:18.129068Z",
     "shell.execute_reply": "2024-03-14T01:28:18.127929Z"
    },
    "papermill": {
     "duration": 0.015271,
     "end_time": "2024-03-14T01:28:18.131321",
     "exception": false,
     "start_time": "2024-03-14T01:28:18.116050",
     "status": "completed"
    },
    "tags": []
   },
   "outputs": [],
   "source": [
    "maxLen=64\n",
    "minLen=0\n",
    "embed=200\n",
    "epochs=20"
   ]
  },
  {
   "cell_type": "code",
   "execution_count": 3,
   "id": "ca5d71bf",
   "metadata": {
    "execution": {
     "iopub.execute_input": "2024-03-14T01:28:18.145621Z",
     "iopub.status.busy": "2024-03-14T01:28:18.145011Z",
     "iopub.status.idle": "2024-03-14T01:28:20.713695Z",
     "shell.execute_reply": "2024-03-14T01:28:20.712134Z"
    },
    "papermill": {
     "duration": 2.579018,
     "end_time": "2024-03-14T01:28:20.716448",
     "exception": false,
     "start_time": "2024-03-14T01:28:18.137430",
     "status": "completed"
    },
    "tags": []
   },
   "outputs": [
    {
     "name": "stdout",
     "output_type": "stream",
     "text": [
      "['EAP' 'HPL' 'MWS']\n"
     ]
    }
   ],
   "source": [
    "train_csv=pd.read_csv(\"/kaggle/input/ise-competition-1/train/train.csv\")\n",
    "train=train_csv.to_numpy(dtype=str)\n",
    "id = train[:,0]\n",
    "seq = train[:,1]\n",
    "out = train[:,2]\n",
    "possible_output,Y_train=one_hot(out)\n",
    "print(possible_output)\n"
   ]
  },
  {
   "cell_type": "code",
   "execution_count": 4,
   "id": "85a5611f",
   "metadata": {
    "execution": {
     "iopub.execute_input": "2024-03-14T01:28:20.731088Z",
     "iopub.status.busy": "2024-03-14T01:28:20.730638Z",
     "iopub.status.idle": "2024-03-14T01:28:21.939558Z",
     "shell.execute_reply": "2024-03-14T01:28:21.938076Z"
    },
    "papermill": {
     "duration": 1.219612,
     "end_time": "2024-03-14T01:28:21.942568",
     "exception": false,
     "start_time": "2024-03-14T01:28:20.722956",
     "status": "completed"
    },
    "tags": []
   },
   "outputs": [
    {
     "name": "stdout",
     "output_type": "stream",
     "text": [
      "\"PIQUANT EXPRESSIONS.\n",
      "['\"', 'piquant', 'expressions', '.']\n"
     ]
    }
   ],
   "source": [
    "longest = max(seq, key=lambda x: len(re.findall(r'\\w+|\\S+', x.lower())))\n",
    "shortest= min(seq, key=lambda x: len(re.findall(r'\\w+|\\S+', x.lower())))\n",
    "#print (longest)\n",
    "print(shortest)\n",
    "print(slice_sequence(shortest))\n",
    "#maxLen = len(re.findall(r'\\w+|\\S+', longest.lower()))\n",
    "#maxLen = min(maxLen,200)"
   ]
  },
  {
   "cell_type": "code",
   "execution_count": 5,
   "id": "b21e6f38",
   "metadata": {
    "execution": {
     "iopub.execute_input": "2024-03-14T01:28:21.957908Z",
     "iopub.status.busy": "2024-03-14T01:28:21.957467Z",
     "iopub.status.idle": "2024-03-14T01:28:50.583591Z",
     "shell.execute_reply": "2024-03-14T01:28:50.582319Z"
    },
    "papermill": {
     "duration": 28.6368,
     "end_time": "2024-03-14T01:28:50.586529",
     "exception": false,
     "start_time": "2024-03-14T01:28:21.949729",
     "status": "completed"
    },
    "tags": []
   },
   "outputs": [],
   "source": [
    "word_to_index, index_to_word, word_to_vec_map = read_glove_vecs(f'/kaggle/input/glove6b/glove.6B.{embed}d.txt')"
   ]
  },
  {
   "cell_type": "code",
   "execution_count": 6,
   "id": "557e321d",
   "metadata": {
    "execution": {
     "iopub.execute_input": "2024-03-14T01:28:50.601396Z",
     "iopub.status.busy": "2024-03-14T01:28:50.601026Z",
     "iopub.status.idle": "2024-03-14T01:28:50.609781Z",
     "shell.execute_reply": "2024-03-14T01:28:50.608366Z"
    },
    "papermill": {
     "duration": 0.019072,
     "end_time": "2024-03-14T01:28:50.612204",
     "exception": false,
     "start_time": "2024-03-14T01:28:50.593132",
     "status": "completed"
    },
    "tags": []
   },
   "outputs": [],
   "source": [
    "# tokenize and create format\n",
    "def sentences_to_indices(X, word_to_index, max_len):\n",
    "    \"\"\"\n",
    "    Converts an array of sentences (strings) into an array of indices corresponding to words in the sentences.\n",
    "    The output shape should be such that it can be given to `Embedding()` \n",
    "    \n",
    "    Arguments:\n",
    "    X -- array of sentences (strings), of shape (m,)\n",
    "    word_to_index -- a dictionary containing the each word mapped to its index\n",
    "    max_len -- maximum number of words in a sentence. You can assume every sentence in X is no longer than this. \n",
    "    \n",
    "    Returns:\n",
    "    X_indices -- array of indices corresponding to words in the sentences from X, of shape (m, max_len)\n",
    "    \"\"\"\n",
    "    \n",
    "    m = X.shape[0]                                   # number of training examples\n",
    "    \n",
    "    # Initialize X_indices as a numpy matrix of zeros and the correct shape (≈ 1 line)\n",
    "    X_indices = np.zeros((m,max_len))\n",
    "    \n",
    "    for i in range(m):                               # loop over training examples\n",
    "        # Convert the ith training sentence to lower case and split it into words\n",
    "        sentence_words= slice_sequence(X[i])\n",
    "        # Initialize j to 0\n",
    "        j = 0\n",
    "        if (i<5):\n",
    "            debug=True\n",
    "        # Loop over the words of sentence_words\n",
    "        for w in sentence_words:\n",
    "            # if w exists in the word_to_index dictionary\n",
    "            if w in word_to_index:\n",
    "                # Set the (i,j)th entry of X_indices to the index of the correct word.\n",
    "                X_indices[i, j] = word_to_index[w]\n",
    "                j = j+1    \n",
    "                if j>=max_len:\n",
    "                    break\n",
    "    return X_indices"
   ]
  },
  {
   "cell_type": "code",
   "execution_count": 7,
   "id": "8b293942",
   "metadata": {
    "execution": {
     "iopub.execute_input": "2024-03-14T01:28:50.626867Z",
     "iopub.status.busy": "2024-03-14T01:28:50.626475Z",
     "iopub.status.idle": "2024-03-14T01:28:51.762504Z",
     "shell.execute_reply": "2024-03-14T01:28:51.761177Z"
    },
    "papermill": {
     "duration": 1.147567,
     "end_time": "2024-03-14T01:28:51.766209",
     "exception": false,
     "start_time": "2024-03-14T01:28:50.618642",
     "status": "completed"
    },
    "tags": []
   },
   "outputs": [
    {
     "name": "stdout",
     "output_type": "stream",
     "text": [
      "['This process, however, afforded me no means of ascertaining the dimensions of my dungeon; as I might make its circuit, and return to the point whence I set out, without being aware of the fact; so perfectly uniform seemed the wall.'\n",
      " 'It never once occurred to me that the fumbling might be a mere mistake.'\n",
      " 'In his left hand was a gold snuff box, from which, as he capered down the hill, cutting all manner of fantastic steps, he took snuff incessantly with an air of the greatest possible self satisfaction.'\n",
      " 'How lovely is spring As we looked from Windsor Terrace on the sixteen fertile counties spread beneath, speckled by happy cottages and wealthier towns, all looked as in former years, heart cheering and fair.'\n",
      " 'Finding nothing else, not even gold, the Superintendent abandoned his attempts; but a perplexed look occasionally steals over his countenance as he sits thinking at his desk.']\n",
      "[[358161 292849    452 182574    452  47561 239106 262351 239198 268047\n",
      "   60830 357267 124214 268047 254259 130811  42950  60666 185458 243978\n",
      "  231459 193920 101461    452  54719 307030 360916 357267 287480 386426\n",
      "  185458 325900 272931    452 388757  72183  64318 268047 357267 143955\n",
      "   42950 336115 281284 372015 323427 357267 382655    867      0      0\n",
      "       0      0      0      0      0      0      0      0      0      0\n",
      "       0      0      0      0]\n",
      " [193717 259915 269890 267459 360916 239106 357213 357267 155155 243978\n",
      "   71091  43011 241336 246351    867      0      0      0      0      0\n",
      "       0      0      0      0      0      0      0      0      0      0\n",
      "       0      0      0      0      0      0      0      0      0      0\n",
      "       0      0      0      0      0      0      0      0      0      0\n",
      "       0      0      0      0      0      0      0      0      0      0\n",
      "       0      0      0      0]\n",
      " [188482 179435 219578 172467 383515  43011 163827 336083  82219    452\n",
      "  154324 386475    452  60666 175200 128528 357267 178829    452 114254\n",
      "   51583 233321 268047 144909 342883    452 175200 361954 336083 188761\n",
      "  388712  54274  49060 268047 357267 166403 289447 323982 319033    867\n",
      "       0      0      0      0      0      0      0      0      0      0\n",
      "       0      0      0      0      0      0      0      0      0      0\n",
      "       0      0      0      0]\n",
      " [182541 226327 192974 340238  60666 384375 225640 154324 388125 356251\n",
      "  269799 357267 333365 147248 110424 340206  73068    452 339061  88127\n",
      "  173082 110049  54719 384410 363143    452  51583 225640  60666 188482\n",
      "  151781 393336    452 175450  97856  54719 144250    867      0      0\n",
      "       0      0      0      0      0      0      0      0      0      0\n",
      "       0      0      0      0      0      0      0      0      0      0\n",
      "       0      0      0      0]\n",
      " [148434 264613 135870    452 264551 141817 163827    452 357267 347945\n",
      "   43797 179435  62700  42950  87776  43011 281738 225630 267399 342245\n",
      "  273429 179435 110236  60666 175200 333162 357981  62066 179435 121892\n",
      "     867      0      0      0      0      0      0      0      0      0\n",
      "       0      0      0      0      0      0      0      0      0      0\n",
      "       0      0      0      0      0      0      0      0      0      0\n",
      "       0      0      0      0]]\n",
      "[[1. 0. 0.]\n",
      " [0. 1. 0.]\n",
      " [1. 0. 0.]\n",
      " [0. 0. 1.]\n",
      " [0. 1. 0.]]\n"
     ]
    }
   ],
   "source": [
    "print(seq[0:5])\n",
    "\n",
    "X_train=sentences_to_indices(seq, word_to_index, maxLen)\n",
    "print(np.int32(X_train[0:5]))\n",
    "print(Y_train[0:5])\n"
   ]
  },
  {
   "cell_type": "code",
   "execution_count": 8,
   "id": "61996a1e",
   "metadata": {
    "execution": {
     "iopub.execute_input": "2024-03-14T01:28:51.781414Z",
     "iopub.status.busy": "2024-03-14T01:28:51.781033Z",
     "iopub.status.idle": "2024-03-14T01:29:07.215972Z",
     "shell.execute_reply": "2024-03-14T01:29:07.214729Z"
    },
    "papermill": {
     "duration": 15.446189,
     "end_time": "2024-03-14T01:29:07.219346",
     "exception": false,
     "start_time": "2024-03-14T01:28:51.773157",
     "status": "completed"
    },
    "tags": []
   },
   "outputs": [
    {
     "name": "stderr",
     "output_type": "stream",
     "text": [
      "2024-03-14 01:28:54.252141: E external/local_xla/xla/stream_executor/cuda/cuda_dnn.cc:9261] Unable to register cuDNN factory: Attempting to register factory for plugin cuDNN when one has already been registered\n",
      "2024-03-14 01:28:54.252283: E external/local_xla/xla/stream_executor/cuda/cuda_fft.cc:607] Unable to register cuFFT factory: Attempting to register factory for plugin cuFFT when one has already been registered\n",
      "2024-03-14 01:28:54.445729: E external/local_xla/xla/stream_executor/cuda/cuda_blas.cc:1515] Unable to register cuBLAS factory: Attempting to register factory for plugin cuBLAS when one has already been registered\n"
     ]
    }
   ],
   "source": [
    "import tensorflow\n",
    "np.random.seed(0)\n",
    "from tensorflow.keras.models import Model\n",
    "from tensorflow.keras.layers import Dense, Input, Dropout, LSTM, Activation\n",
    "from tensorflow.keras.layers import Embedding\n",
    "from tensorflow.keras.preprocessing import sequence\n",
    "from tensorflow.keras.initializers import glorot_uniform\n",
    "np.random.seed(1)"
   ]
  },
  {
   "cell_type": "code",
   "execution_count": 9,
   "id": "03595bd7",
   "metadata": {
    "execution": {
     "iopub.execute_input": "2024-03-14T01:29:07.235269Z",
     "iopub.status.busy": "2024-03-14T01:29:07.234523Z",
     "iopub.status.idle": "2024-03-14T01:29:07.244252Z",
     "shell.execute_reply": "2024-03-14T01:29:07.242959Z"
    },
    "papermill": {
     "duration": 0.020522,
     "end_time": "2024-03-14T01:29:07.246822",
     "exception": false,
     "start_time": "2024-03-14T01:29:07.226300",
     "status": "completed"
    },
    "tags": []
   },
   "outputs": [],
   "source": [
    "def pretrained_embedding_layer(word_to_vec_map, word_to_index):\n",
    "    \"\"\"\n",
    "    Creates a Keras Embedding() layer and loads in pre-trained GloVe 50-dimensional vectors.\n",
    "    \n",
    "    Arguments:\n",
    "    word_to_vec_map -- dictionary mapping words to their GloVe vector representation.\n",
    "    word_to_index -- dictionary mapping from words to their indices in the vocabulary (400,001 words)\n",
    "\n",
    "    Returns:\n",
    "    embedding_layer -- pretrained layer Keras instance\n",
    "    \"\"\"\n",
    "    \n",
    "    vocab_size = len(word_to_index) + 1              # adding 1 to fit Keras embedding (requirement)\n",
    "    any_word = next(iter(word_to_vec_map.keys()))\n",
    "    emb_dim = word_to_vec_map[any_word].shape[0]    # define dimensionality of your GloVe word vectors (= 50)\n",
    "      \n",
    "    # Initialize the embedding matrix as a numpy array of zeros.\n",
    "    emb_matrix = np.zeros((vocab_size,emb_dim))\n",
    "    \n",
    "    # Set each row \"idx\" of the embedding matrix to be \n",
    "    # the word vector representation of the idx'th word of the vocabulary\n",
    "    for word, idx in word_to_index.items():\n",
    "        emb_matrix[idx, :] = word_to_vec_map[word]\n",
    "\n",
    "    # Define Keras embedding layer with the correct input and output sizes\n",
    "    # Make it non-trainable.\n",
    "    embedding_layer = Embedding(vocab_size,emb_dim)\n",
    "\n",
    "    # Build the embedding layer, it is required before setting the weights of the embedding layer. \n",
    "    embedding_layer.build((None,)) # Do not modify the \"None\".  This line of code is complete as-is.\n",
    "    # Set the weights of the embedding layer to the embedding matrix. Your layer is now pretrained.\n",
    "    embedding_layer.set_weights([emb_matrix])\n",
    "    embedding_layer.trainable = False\n",
    "\n",
    "    return embedding_layer"
   ]
  },
  {
   "cell_type": "code",
   "execution_count": 10,
   "id": "c1327979",
   "metadata": {
    "execution": {
     "iopub.execute_input": "2024-03-14T01:29:07.263015Z",
     "iopub.status.busy": "2024-03-14T01:29:07.262533Z",
     "iopub.status.idle": "2024-03-14T01:29:07.272662Z",
     "shell.execute_reply": "2024-03-14T01:29:07.271288Z"
    },
    "papermill": {
     "duration": 0.021122,
     "end_time": "2024-03-14T01:29:07.275009",
     "exception": false,
     "start_time": "2024-03-14T01:29:07.253887",
     "status": "completed"
    },
    "tags": []
   },
   "outputs": [],
   "source": [
    "# Model Authorize_s3\n",
    "\n",
    "def Authorize_s3(input_shape,softmax_size, word_to_vec_map, word_to_index):\n",
    "    \"\"\"\n",
    "    Function creating the Emojify-v2 model's graph.\n",
    "    \n",
    "    Arguments:\n",
    "    input_shape -- shape of the input, usually (max_len,)\n",
    "    word_to_vec_map -- dictionary mapping every word in a vocabulary into its 50-dimensional vector representation\n",
    "    word_to_index -- dictionary mapping from words to their indices in the vocabulary (400,001 words)\n",
    "\n",
    "    Returns:\n",
    "    model -- a model instance in Keras\n",
    "    \"\"\"\n",
    "    \n",
    "    # Define sentence_indices as the input of the graph.\n",
    "    # It should be of shape input_shape and dtype 'int32' (as it contains indices, which are integers).\n",
    "    sentence_indices = Input(shape=input_shape,dtype='int32')\n",
    "    # Create the embedding layer pretrained with GloVe Vectors (≈1 line)\n",
    "    embedding_layer = pretrained_embedding_layer(word_to_vec_map,word_to_index)\n",
    "    # Propagate sentence_indices through your embedding layer\n",
    "    embeddings = embedding_layer(sentence_indices)   \n",
    "    \n",
    "    # Propagate the embeddings through an LSTM layer with 128-dimensional hidden state\n",
    "    # The returned output should be a batch of sequences.\n",
    "    X = LSTM(units=256,return_sequences=True)(embeddings)\n",
    "    # Add dropout with a probability of 0.5\n",
    "    X = Dropout(0.5)(X)\n",
    "    # Propagate X trough another LSTM layer with 128-dimensional hidden state\n",
    "    # The returned output should be a single hidden state, not a batch of sequences.\n",
    "    X = LSTM(units=256,return_sequences=False)(X)\n",
    "    # Add dropout with a probability of 0.5\n",
    "    X = Dropout(0.5)(X)\n",
    "    # Propagate X through a Dense layer \n",
    "    X = Dense(softmax_size)(X)\n",
    "    # Add a softmax activation\n",
    "    X = Activation('softmax')(X)\n",
    "    \n",
    "    # Create Model instance which converts sentence_indices into X.\n",
    "    model = Model(sentence_indices,X)\n",
    "        \n",
    "    return model"
   ]
  },
  {
   "cell_type": "code",
   "execution_count": 11,
   "id": "a8713cf1",
   "metadata": {
    "execution": {
     "iopub.execute_input": "2024-03-14T01:29:07.290843Z",
     "iopub.status.busy": "2024-03-14T01:29:07.290402Z",
     "iopub.status.idle": "2024-03-14T01:29:10.348175Z",
     "shell.execute_reply": "2024-03-14T01:29:10.346950Z"
    },
    "papermill": {
     "duration": 3.068974,
     "end_time": "2024-03-14T01:29:10.350953",
     "exception": false,
     "start_time": "2024-03-14T01:29:07.281979",
     "status": "completed"
    },
    "tags": []
   },
   "outputs": [
    {
     "data": {
      "text/html": [
       "<pre style=\"white-space:pre;overflow-x:auto;line-height:normal;font-family:Menlo,'DejaVu Sans Mono',consolas,'Courier New',monospace\"><span style=\"font-weight: bold\">Model: \"functional_1\"</span>\n",
       "</pre>\n"
      ],
      "text/plain": [
       "\u001b[1mModel: \"functional_1\"\u001b[0m\n"
      ]
     },
     "metadata": {},
     "output_type": "display_data"
    },
    {
     "data": {
      "text/html": [
       "<pre style=\"white-space:pre;overflow-x:auto;line-height:normal;font-family:Menlo,'DejaVu Sans Mono',consolas,'Courier New',monospace\">┏━━━━━━━━━━━━━━━━━━━━━━━━━━━━━━━━━┳━━━━━━━━━━━━━━━━━━━━━━━━┳━━━━━━━━━━━━━━━┓\n",
       "┃<span style=\"font-weight: bold\"> Layer (type)                    </span>┃<span style=\"font-weight: bold\"> Output Shape           </span>┃<span style=\"font-weight: bold\">       Param # </span>┃\n",
       "┡━━━━━━━━━━━━━━━━━━━━━━━━━━━━━━━━━╇━━━━━━━━━━━━━━━━━━━━━━━━╇━━━━━━━━━━━━━━━┩\n",
       "│ input_layer (<span style=\"color: #0087ff; text-decoration-color: #0087ff\">InputLayer</span>)        │ (<span style=\"color: #00d7ff; text-decoration-color: #00d7ff\">None</span>, <span style=\"color: #00af00; text-decoration-color: #00af00\">64</span>)             │             <span style=\"color: #00af00; text-decoration-color: #00af00\">0</span> │\n",
       "├─────────────────────────────────┼────────────────────────┼───────────────┤\n",
       "│ embedding (<span style=\"color: #0087ff; text-decoration-color: #0087ff\">Embedding</span>)           │ (<span style=\"color: #00d7ff; text-decoration-color: #00d7ff\">None</span>, <span style=\"color: #00af00; text-decoration-color: #00af00\">64</span>, <span style=\"color: #00af00; text-decoration-color: #00af00\">200</span>)        │    <span style=\"color: #00af00; text-decoration-color: #00af00\">80,000,400</span> │\n",
       "├─────────────────────────────────┼────────────────────────┼───────────────┤\n",
       "│ lstm (<span style=\"color: #0087ff; text-decoration-color: #0087ff\">LSTM</span>)                     │ (<span style=\"color: #00d7ff; text-decoration-color: #00d7ff\">None</span>, <span style=\"color: #00af00; text-decoration-color: #00af00\">64</span>, <span style=\"color: #00af00; text-decoration-color: #00af00\">256</span>)        │       <span style=\"color: #00af00; text-decoration-color: #00af00\">467,968</span> │\n",
       "├─────────────────────────────────┼────────────────────────┼───────────────┤\n",
       "│ dropout (<span style=\"color: #0087ff; text-decoration-color: #0087ff\">Dropout</span>)               │ (<span style=\"color: #00d7ff; text-decoration-color: #00d7ff\">None</span>, <span style=\"color: #00af00; text-decoration-color: #00af00\">64</span>, <span style=\"color: #00af00; text-decoration-color: #00af00\">256</span>)        │             <span style=\"color: #00af00; text-decoration-color: #00af00\">0</span> │\n",
       "├─────────────────────────────────┼────────────────────────┼───────────────┤\n",
       "│ lstm_1 (<span style=\"color: #0087ff; text-decoration-color: #0087ff\">LSTM</span>)                   │ (<span style=\"color: #00d7ff; text-decoration-color: #00d7ff\">None</span>, <span style=\"color: #00af00; text-decoration-color: #00af00\">256</span>)            │       <span style=\"color: #00af00; text-decoration-color: #00af00\">525,312</span> │\n",
       "├─────────────────────────────────┼────────────────────────┼───────────────┤\n",
       "│ dropout_1 (<span style=\"color: #0087ff; text-decoration-color: #0087ff\">Dropout</span>)             │ (<span style=\"color: #00d7ff; text-decoration-color: #00d7ff\">None</span>, <span style=\"color: #00af00; text-decoration-color: #00af00\">256</span>)            │             <span style=\"color: #00af00; text-decoration-color: #00af00\">0</span> │\n",
       "├─────────────────────────────────┼────────────────────────┼───────────────┤\n",
       "│ dense (<span style=\"color: #0087ff; text-decoration-color: #0087ff\">Dense</span>)                   │ (<span style=\"color: #00d7ff; text-decoration-color: #00d7ff\">None</span>, <span style=\"color: #00af00; text-decoration-color: #00af00\">3</span>)              │           <span style=\"color: #00af00; text-decoration-color: #00af00\">771</span> │\n",
       "├─────────────────────────────────┼────────────────────────┼───────────────┤\n",
       "│ activation (<span style=\"color: #0087ff; text-decoration-color: #0087ff\">Activation</span>)         │ (<span style=\"color: #00d7ff; text-decoration-color: #00d7ff\">None</span>, <span style=\"color: #00af00; text-decoration-color: #00af00\">3</span>)              │             <span style=\"color: #00af00; text-decoration-color: #00af00\">0</span> │\n",
       "└─────────────────────────────────┴────────────────────────┴───────────────┘\n",
       "</pre>\n"
      ],
      "text/plain": [
       "┏━━━━━━━━━━━━━━━━━━━━━━━━━━━━━━━━━┳━━━━━━━━━━━━━━━━━━━━━━━━┳━━━━━━━━━━━━━━━┓\n",
       "┃\u001b[1m \u001b[0m\u001b[1mLayer (type)                   \u001b[0m\u001b[1m \u001b[0m┃\u001b[1m \u001b[0m\u001b[1mOutput Shape          \u001b[0m\u001b[1m \u001b[0m┃\u001b[1m \u001b[0m\u001b[1m      Param #\u001b[0m\u001b[1m \u001b[0m┃\n",
       "┡━━━━━━━━━━━━━━━━━━━━━━━━━━━━━━━━━╇━━━━━━━━━━━━━━━━━━━━━━━━╇━━━━━━━━━━━━━━━┩\n",
       "│ input_layer (\u001b[38;5;33mInputLayer\u001b[0m)        │ (\u001b[38;5;45mNone\u001b[0m, \u001b[38;5;34m64\u001b[0m)             │             \u001b[38;5;34m0\u001b[0m │\n",
       "├─────────────────────────────────┼────────────────────────┼───────────────┤\n",
       "│ embedding (\u001b[38;5;33mEmbedding\u001b[0m)           │ (\u001b[38;5;45mNone\u001b[0m, \u001b[38;5;34m64\u001b[0m, \u001b[38;5;34m200\u001b[0m)        │    \u001b[38;5;34m80,000,400\u001b[0m │\n",
       "├─────────────────────────────────┼────────────────────────┼───────────────┤\n",
       "│ lstm (\u001b[38;5;33mLSTM\u001b[0m)                     │ (\u001b[38;5;45mNone\u001b[0m, \u001b[38;5;34m64\u001b[0m, \u001b[38;5;34m256\u001b[0m)        │       \u001b[38;5;34m467,968\u001b[0m │\n",
       "├─────────────────────────────────┼────────────────────────┼───────────────┤\n",
       "│ dropout (\u001b[38;5;33mDropout\u001b[0m)               │ (\u001b[38;5;45mNone\u001b[0m, \u001b[38;5;34m64\u001b[0m, \u001b[38;5;34m256\u001b[0m)        │             \u001b[38;5;34m0\u001b[0m │\n",
       "├─────────────────────────────────┼────────────────────────┼───────────────┤\n",
       "│ lstm_1 (\u001b[38;5;33mLSTM\u001b[0m)                   │ (\u001b[38;5;45mNone\u001b[0m, \u001b[38;5;34m256\u001b[0m)            │       \u001b[38;5;34m525,312\u001b[0m │\n",
       "├─────────────────────────────────┼────────────────────────┼───────────────┤\n",
       "│ dropout_1 (\u001b[38;5;33mDropout\u001b[0m)             │ (\u001b[38;5;45mNone\u001b[0m, \u001b[38;5;34m256\u001b[0m)            │             \u001b[38;5;34m0\u001b[0m │\n",
       "├─────────────────────────────────┼────────────────────────┼───────────────┤\n",
       "│ dense (\u001b[38;5;33mDense\u001b[0m)                   │ (\u001b[38;5;45mNone\u001b[0m, \u001b[38;5;34m3\u001b[0m)              │           \u001b[38;5;34m771\u001b[0m │\n",
       "├─────────────────────────────────┼────────────────────────┼───────────────┤\n",
       "│ activation (\u001b[38;5;33mActivation\u001b[0m)         │ (\u001b[38;5;45mNone\u001b[0m, \u001b[38;5;34m3\u001b[0m)              │             \u001b[38;5;34m0\u001b[0m │\n",
       "└─────────────────────────────────┴────────────────────────┴───────────────┘\n"
      ]
     },
     "metadata": {},
     "output_type": "display_data"
    },
    {
     "data": {
      "text/html": [
       "<pre style=\"white-space:pre;overflow-x:auto;line-height:normal;font-family:Menlo,'DejaVu Sans Mono',consolas,'Courier New',monospace\"><span style=\"font-weight: bold\"> Total params: </span><span style=\"color: #00af00; text-decoration-color: #00af00\">80,994,451</span> (308.97 MB)\n",
       "</pre>\n"
      ],
      "text/plain": [
       "\u001b[1m Total params: \u001b[0m\u001b[38;5;34m80,994,451\u001b[0m (308.97 MB)\n"
      ]
     },
     "metadata": {},
     "output_type": "display_data"
    },
    {
     "data": {
      "text/html": [
       "<pre style=\"white-space:pre;overflow-x:auto;line-height:normal;font-family:Menlo,'DejaVu Sans Mono',consolas,'Courier New',monospace\"><span style=\"font-weight: bold\"> Trainable params: </span><span style=\"color: #00af00; text-decoration-color: #00af00\">994,051</span> (3.79 MB)\n",
       "</pre>\n"
      ],
      "text/plain": [
       "\u001b[1m Trainable params: \u001b[0m\u001b[38;5;34m994,051\u001b[0m (3.79 MB)\n"
      ]
     },
     "metadata": {},
     "output_type": "display_data"
    },
    {
     "data": {
      "text/html": [
       "<pre style=\"white-space:pre;overflow-x:auto;line-height:normal;font-family:Menlo,'DejaVu Sans Mono',consolas,'Courier New',monospace\"><span style=\"font-weight: bold\"> Non-trainable params: </span><span style=\"color: #00af00; text-decoration-color: #00af00\">80,000,400</span> (305.18 MB)\n",
       "</pre>\n"
      ],
      "text/plain": [
       "\u001b[1m Non-trainable params: \u001b[0m\u001b[38;5;34m80,000,400\u001b[0m (305.18 MB)\n"
      ]
     },
     "metadata": {},
     "output_type": "display_data"
    }
   ],
   "source": [
    "model = Authorize_s3((maxLen,),len(possible_output), word_to_vec_map, word_to_index)\n",
    "model.layers[0].trainable = False\n",
    "model.summary()"
   ]
  },
  {
   "cell_type": "code",
   "execution_count": 12,
   "id": "005ccfaa",
   "metadata": {
    "execution": {
     "iopub.execute_input": "2024-03-14T01:29:10.369623Z",
     "iopub.status.busy": "2024-03-14T01:29:10.368292Z",
     "iopub.status.idle": "2024-03-14T01:29:10.384424Z",
     "shell.execute_reply": "2024-03-14T01:29:10.383202Z"
    },
    "papermill": {
     "duration": 0.028451,
     "end_time": "2024-03-14T01:29:10.387468",
     "exception": false,
     "start_time": "2024-03-14T01:29:10.359017",
     "status": "completed"
    },
    "tags": []
   },
   "outputs": [],
   "source": [
    "model.compile(loss='categorical_crossentropy',\n",
    "              optimizer=tensorflow.keras.optimizers.Adam(learning_rate=0.0003),\n",
    "              metrics=['accuracy'])"
   ]
  },
  {
   "cell_type": "code",
   "execution_count": 13,
   "id": "b7400256",
   "metadata": {
    "execution": {
     "iopub.execute_input": "2024-03-14T01:29:10.405202Z",
     "iopub.status.busy": "2024-03-14T01:29:10.404763Z",
     "iopub.status.idle": "2024-03-14T02:15:38.400721Z",
     "shell.execute_reply": "2024-03-14T02:15:38.399099Z"
    },
    "papermill": {
     "duration": 2788.008606,
     "end_time": "2024-03-14T02:15:38.404000",
     "exception": false,
     "start_time": "2024-03-14T01:29:10.395394",
     "status": "completed"
    },
    "tags": []
   },
   "outputs": [
    {
     "name": "stdout",
     "output_type": "stream",
     "text": [
      "Epoch 1/20\n",
      "\u001b[1m306/306\u001b[0m \u001b[32m━━━━━━━━━━━━━━━━━━━━\u001b[0m\u001b[37m\u001b[0m \u001b[1m138s\u001b[0m 439ms/step - accuracy: 0.4845 - loss: 1.0105\n",
      "Epoch 2/20\n",
      "\u001b[1m306/306\u001b[0m \u001b[32m━━━━━━━━━━━━━━━━━━━━\u001b[0m\u001b[37m\u001b[0m \u001b[1m139s\u001b[0m 428ms/step - accuracy: 0.6795 - loss: 0.7483\n",
      "Epoch 3/20\n",
      "\u001b[1m306/306\u001b[0m \u001b[32m━━━━━━━━━━━━━━━━━━━━\u001b[0m\u001b[37m\u001b[0m \u001b[1m144s\u001b[0m 434ms/step - accuracy: 0.6992 - loss: 0.7071\n",
      "Epoch 4/20\n",
      "\u001b[1m306/306\u001b[0m \u001b[32m━━━━━━━━━━━━━━━━━━━━\u001b[0m\u001b[37m\u001b[0m \u001b[1m132s\u001b[0m 430ms/step - accuracy: 0.7360 - loss: 0.6472\n",
      "Epoch 5/20\n",
      "\u001b[1m306/306\u001b[0m \u001b[32m━━━━━━━━━━━━━━━━━━━━\u001b[0m\u001b[37m\u001b[0m \u001b[1m132s\u001b[0m 430ms/step - accuracy: 0.7577 - loss: 0.5940\n",
      "Epoch 6/20\n",
      "\u001b[1m306/306\u001b[0m \u001b[32m━━━━━━━━━━━━━━━━━━━━\u001b[0m\u001b[37m\u001b[0m \u001b[1m141s\u001b[0m 426ms/step - accuracy: 0.7766 - loss: 0.5480\n",
      "Epoch 7/20\n",
      "\u001b[1m306/306\u001b[0m \u001b[32m━━━━━━━━━━━━━━━━━━━━\u001b[0m\u001b[37m\u001b[0m \u001b[1m145s\u001b[0m 435ms/step - accuracy: 0.7938 - loss: 0.5125\n",
      "Epoch 8/20\n",
      "\u001b[1m306/306\u001b[0m \u001b[32m━━━━━━━━━━━━━━━━━━━━\u001b[0m\u001b[37m\u001b[0m \u001b[1m142s\u001b[0m 437ms/step - accuracy: 0.8095 - loss: 0.4824\n",
      "Epoch 9/20\n",
      "\u001b[1m306/306\u001b[0m \u001b[32m━━━━━━━━━━━━━━━━━━━━\u001b[0m\u001b[37m\u001b[0m \u001b[1m139s\u001b[0m 429ms/step - accuracy: 0.8256 - loss: 0.4395\n",
      "Epoch 10/20\n",
      "\u001b[1m306/306\u001b[0m \u001b[32m━━━━━━━━━━━━━━━━━━━━\u001b[0m\u001b[37m\u001b[0m \u001b[1m133s\u001b[0m 435ms/step - accuracy: 0.8367 - loss: 0.4207\n",
      "Epoch 11/20\n",
      "\u001b[1m306/306\u001b[0m \u001b[32m━━━━━━━━━━━━━━━━━━━━\u001b[0m\u001b[37m\u001b[0m \u001b[1m139s\u001b[0m 425ms/step - accuracy: 0.8551 - loss: 0.3792\n",
      "Epoch 12/20\n",
      "\u001b[1m306/306\u001b[0m \u001b[32m━━━━━━━━━━━━━━━━━━━━\u001b[0m\u001b[37m\u001b[0m \u001b[1m130s\u001b[0m 426ms/step - accuracy: 0.8558 - loss: 0.3796\n",
      "Epoch 13/20\n",
      "\u001b[1m306/306\u001b[0m \u001b[32m━━━━━━━━━━━━━━━━━━━━\u001b[0m\u001b[37m\u001b[0m \u001b[1m143s\u001b[0m 430ms/step - accuracy: 0.8706 - loss: 0.3350\n",
      "Epoch 14/20\n",
      "\u001b[1m306/306\u001b[0m \u001b[32m━━━━━━━━━━━━━━━━━━━━\u001b[0m\u001b[37m\u001b[0m \u001b[1m146s\u001b[0m 442ms/step - accuracy: 0.8838 - loss: 0.3054\n",
      "Epoch 15/20\n",
      "\u001b[1m306/306\u001b[0m \u001b[32m━━━━━━━━━━━━━━━━━━━━\u001b[0m\u001b[37m\u001b[0m \u001b[1m139s\u001b[0m 433ms/step - accuracy: 0.8980 - loss: 0.2734\n",
      "Epoch 16/20\n",
      "\u001b[1m306/306\u001b[0m \u001b[32m━━━━━━━━━━━━━━━━━━━━\u001b[0m\u001b[37m\u001b[0m \u001b[1m141s\u001b[0m 428ms/step - accuracy: 0.9071 - loss: 0.2561\n",
      "Epoch 17/20\n",
      "\u001b[1m306/306\u001b[0m \u001b[32m━━━━━━━━━━━━━━━━━━━━\u001b[0m\u001b[37m\u001b[0m \u001b[1m142s\u001b[0m 429ms/step - accuracy: 0.9179 - loss: 0.2266\n",
      "Epoch 18/20\n",
      "\u001b[1m306/306\u001b[0m \u001b[32m━━━━━━━━━━━━━━━━━━━━\u001b[0m\u001b[37m\u001b[0m \u001b[1m141s\u001b[0m 425ms/step - accuracy: 0.9315 - loss: 0.1923\n",
      "Epoch 19/20\n",
      "\u001b[1m306/306\u001b[0m \u001b[32m━━━━━━━━━━━━━━━━━━━━\u001b[0m\u001b[37m\u001b[0m \u001b[1m142s\u001b[0m 425ms/step - accuracy: 0.9259 - loss: 0.1998\n",
      "Epoch 20/20\n",
      "\u001b[1m306/306\u001b[0m \u001b[32m━━━━━━━━━━━━━━━━━━━━\u001b[0m\u001b[37m\u001b[0m \u001b[1m131s\u001b[0m 427ms/step - accuracy: 0.9418 - loss: 0.1654\n"
     ]
    },
    {
     "data": {
      "text/plain": [
       "<keras.src.callbacks.history.History at 0x7bead7b98550>"
      ]
     },
     "execution_count": 13,
     "metadata": {},
     "output_type": "execute_result"
    }
   ],
   "source": [
    "model.fit(X_train, Y_train, epochs = epochs, batch_size = 64, shuffle=True)"
   ]
  },
  {
   "cell_type": "code",
   "execution_count": 14,
   "id": "28e2c17d",
   "metadata": {
    "execution": {
     "iopub.execute_input": "2024-03-14T02:15:39.709563Z",
     "iopub.status.busy": "2024-03-14T02:15:39.708548Z",
     "iopub.status.idle": "2024-03-14T02:15:40.206992Z",
     "shell.execute_reply": "2024-03-14T02:15:40.205344Z"
    },
    "papermill": {
     "duration": 1.19284,
     "end_time": "2024-03-14T02:15:40.209962",
     "exception": false,
     "start_time": "2024-03-14T02:15:39.017122",
     "status": "completed"
    },
    "tags": []
   },
   "outputs": [],
   "source": [
    "model.save(f'/kaggle/working/model_len{maxLen}_embed{embed}_ep{epochs}.h5')\n"
   ]
  },
  {
   "cell_type": "code",
   "execution_count": 15,
   "id": "019a4235",
   "metadata": {
    "execution": {
     "iopub.execute_input": "2024-03-14T02:15:41.420982Z",
     "iopub.status.busy": "2024-03-14T02:15:41.420115Z",
     "iopub.status.idle": "2024-03-14T02:15:42.198129Z",
     "shell.execute_reply": "2024-03-14T02:15:42.196780Z"
    },
    "papermill": {
     "duration": 1.38849,
     "end_time": "2024-03-14T02:15:42.200787",
     "exception": false,
     "start_time": "2024-03-14T02:15:40.812297",
     "status": "completed"
    },
    "tags": []
   },
   "outputs": [
    {
     "name": "stdout",
     "output_type": "stream",
     "text": [
      "['Still, as I urged our leaving Ireland with such inquietude and impatience, my father thought it best to yield.'\n",
      " 'If a fire wanted fanning, it could readily be fanned with a newspaper, and as the government grew weaker, I have no doubt that leather and iron acquired durability in proportion, for, in a very short time, there was not a pair of bellows in all Rotterdam that ever stood in need of a stitch or required the assistance of a hammer.'\n",
      " 'And when they had broken down the frail door they found only this: two cleanly picked human skeletons on the earthen floor, and a number of singular beetles crawling in the shadowy corners.'\n",
      " ...\n",
      " 'It is easily understood that what might improve a closely scrutinized detail, may at the same time injure a general or more distantly observed effect.'\n",
      " 'Be this as it may, I now began to feel the inspiration of a burning hope, and at length nurtured in my secret thoughts a stern and desperate resolution that I would submit no longer to be enslaved.'\n",
      " 'Long winded, statistical, and drearily genealogical as some of the matter was, there ran through it a continuous thread of brooding, tenacious horror and preternatural malevolence which impressed me even more than it had impressed the good doctor.']\n"
     ]
    }
   ],
   "source": [
    "test_csv=pd.read_csv(\"/kaggle/input/ise-competition-1/test/test.csv\")\n",
    "test=test_csv.to_numpy(dtype=str)\n",
    "id_test = test[:,0]\n",
    "seq_test = test[:,1]\n",
    "X_test=sentences_to_indices(seq_test, word_to_index, maxLen)\n",
    "print(seq_test)"
   ]
  },
  {
   "cell_type": "code",
   "execution_count": 16,
   "id": "33dd8dd5",
   "metadata": {
    "execution": {
     "iopub.execute_input": "2024-03-14T02:15:43.432883Z",
     "iopub.status.busy": "2024-03-14T02:15:43.432403Z",
     "iopub.status.idle": "2024-03-14T02:16:13.295530Z",
     "shell.execute_reply": "2024-03-14T02:16:13.294537Z"
    },
    "papermill": {
     "duration": 30.468479,
     "end_time": "2024-03-14T02:16:13.298121",
     "exception": false,
     "start_time": "2024-03-14T02:15:42.829642",
     "status": "completed"
    },
    "tags": []
   },
   "outputs": [
    {
     "name": "stdout",
     "output_type": "stream",
     "text": [
      "\u001b[1m263/263\u001b[0m \u001b[32m━━━━━━━━━━━━━━━━━━━━\u001b[0m\u001b[37m\u001b[0m \u001b[1m30s\u001b[0m 112ms/step\n"
     ]
    }
   ],
   "source": [
    "Y_test= model.predict(X_test)\n"
   ]
  },
  {
   "cell_type": "code",
   "execution_count": 17,
   "id": "32aa3244",
   "metadata": {
    "execution": {
     "iopub.execute_input": "2024-03-14T02:16:14.654522Z",
     "iopub.status.busy": "2024-03-14T02:16:14.653702Z",
     "iopub.status.idle": "2024-03-14T02:16:14.908937Z",
     "shell.execute_reply": "2024-03-14T02:16:14.907925Z"
    },
    "papermill": {
     "duration": 0.989052,
     "end_time": "2024-03-14T02:16:14.911745",
     "exception": false,
     "start_time": "2024-03-14T02:16:13.922693",
     "status": "completed"
    },
    "tags": []
   },
   "outputs": [
    {
     "name": "stdout",
     "output_type": "stream",
     "text": [
      "           id       EAP       HPL       MWS\n",
      "0     id02310  0.000230  0.000113  0.999657\n",
      "1     id24541  0.995312  0.003069  0.001619\n",
      "2     id00134  0.001231  0.996899  0.001871\n",
      "3     id27757  0.215684  0.765503  0.018813\n",
      "4     id04081  0.840809  0.119284  0.039908\n",
      "...       ...       ...       ...       ...\n",
      "8387  id11749  0.229744  0.045133  0.725122\n",
      "8388  id10526  0.000694  0.000171  0.999135\n",
      "8389  id13477  0.997449  0.001861  0.000691\n",
      "8390  id13761  0.457938  0.021453  0.520609\n",
      "8391  id04282  0.000574  0.999163  0.000263\n",
      "\n",
      "[8392 rows x 4 columns]\n"
     ]
    }
   ],
   "source": [
    "import csv\n",
    "#np.set_printoptions(formatter={'float': lambda x: \"{0:0.3f}\".format(x)})\n",
    "#print(Y_test)\n",
    "eap_i=0\n",
    "hpl_i=0\n",
    "mws_i=0\n",
    "for i in range(len(possible_output)):\n",
    "    if possible_output[i]==\"EAP\":\n",
    "        eap_i=i\n",
    "    if possible_output[i]==\"HPL\":\n",
    "        hpl_i=i\n",
    "    if possible_output[i]==\"MWS\":\n",
    "        mws_i=i\n",
    "predict = []\n",
    "for i in range(len(id_test)):\n",
    "    predict.append(\n",
    "        {\n",
    "            'id' : id_test[i],\n",
    "            'EAP': Y_test[i][eap_i],\n",
    "            'HPL': Y_test[i][hpl_i],\n",
    "            'MWS': Y_test[i][mws_i],\n",
    "        }\n",
    "    )\n",
    "print(pd.DataFrame(predict))\n",
    "pd.DataFrame(predict).to_csv(\"/kaggle/working/predict.csv\",\n",
    "                            index=False,\n",
    "                            quotechar='\"',\n",
    "                            quoting=csv.QUOTE_NONNUMERIC)\n"
   ]
  }
 ],
 "metadata": {
  "kaggle": {
   "accelerator": "none",
   "dataSources": [
    {
     "databundleVersionId": 7916195,
     "sourceId": 72272,
     "sourceType": "competition"
    },
    {
     "datasetId": 4589173,
     "sourceId": 7830641,
     "sourceType": "datasetVersion"
    }
   ],
   "dockerImageVersionId": 30664,
   "isGpuEnabled": false,
   "isInternetEnabled": true,
   "language": "python",
   "sourceType": "notebook"
  },
  "kernelspec": {
   "display_name": "Python 3",
   "language": "python",
   "name": "python3"
  },
  "language_info": {
   "codemirror_mode": {
    "name": "ipython",
    "version": 3
   },
   "file_extension": ".py",
   "mimetype": "text/x-python",
   "name": "python",
   "nbconvert_exporter": "python",
   "pygments_lexer": "ipython3",
   "version": "3.10.13"
  },
  "papermill": {
   "default_parameters": {},
   "duration": 2883.861047,
   "end_time": "2024-03-14T02:16:17.676715",
   "environment_variables": {},
   "exception": null,
   "input_path": "__notebook__.ipynb",
   "output_path": "__notebook__.ipynb",
   "parameters": {},
   "start_time": "2024-03-14T01:28:13.815668",
   "version": "2.5.0"
  }
 },
 "nbformat": 4,
 "nbformat_minor": 5
}
