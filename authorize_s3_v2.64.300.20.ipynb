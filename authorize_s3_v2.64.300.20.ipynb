{
 "cells": [
  {
   "cell_type": "code",
   "execution_count": 1,
   "id": "04ab6c87",
   "metadata": {
    "execution": {
     "iopub.execute_input": "2024-03-14T13:10:34.880919Z",
     "iopub.status.busy": "2024-03-14T13:10:34.879608Z",
     "iopub.status.idle": "2024-03-14T13:10:35.985109Z",
     "shell.execute_reply": "2024-03-14T13:10:35.983551Z"
    },
    "papermill": {
     "duration": 1.118125,
     "end_time": "2024-03-14T13:10:35.987959",
     "exception": false,
     "start_time": "2024-03-14T13:10:34.869834",
     "status": "completed"
    },
    "tags": []
   },
   "outputs": [
    {
     "name": "stdout",
     "output_type": "stream",
     "text": [
      "/kaggle/input/glove6b/glove.6B.200d.txt\n",
      "/kaggle/input/glove6b/glove.6B.50d.txt\n",
      "/kaggle/input/glove6b/glove.6B.300d.txt\n",
      "/kaggle/input/glove6b/glove.6B.100d.txt\n",
      "/kaggle/input/ise-competition-1/sample_submission/sample_submission.csv\n",
      "/kaggle/input/ise-competition-1/test/test.csv\n",
      "/kaggle/input/ise-competition-1/train/train.csv\n"
     ]
    }
   ],
   "source": [
    "\n",
    "import re\n",
    "import numpy as np # linear algebra\n",
    "import pandas as pd # data processing, CSV file I/O (e.g. pd.read_csv)\n",
    "def read_glove_vecs(glove_file):\n",
    "    with open(glove_file, 'r') as f:\n",
    "        words = set()\n",
    "        word_to_vec_map = {}\n",
    "        for line in f:\n",
    "            line = line.strip().split()\n",
    "            curr_word = line[0]\n",
    "            words.add(curr_word)\n",
    "            word_to_vec_map[curr_word] = np.array(line[1:], dtype=np.float64)\n",
    "        \n",
    "        i = 1\n",
    "        words_to_index = {}\n",
    "        index_to_words = {}\n",
    "        for w in sorted(words):\n",
    "            words_to_index[w] = i\n",
    "            index_to_words[i] = w\n",
    "            i = i + 1\n",
    "    return words_to_index, index_to_words, word_to_vec_map\n",
    "\n",
    "def softmax(x):\n",
    "    \"\"\"Compute softmax values for each sets of scores in x.\"\"\"\n",
    "    e_x = np.exp(x - np.max(x))\n",
    "    return e_x / e_x.sum()\n",
    "\n",
    "\n",
    "def one_hot(array):\n",
    "    unique, inverse = np.unique(array, return_inverse=True)\n",
    "    onehot = np.eye(unique.shape[0])[inverse]\n",
    "    return unique,onehot\n",
    "def slice_sequence(sentence):\n",
    "    return re.findall(r'\"|\\'|\\w+|\\S+', sentence.lower())\n",
    "# Input data files are available in the read-only \"../input/\" directory\n",
    "# For example, running this (by clicking run or pressing Shift+Enter) will list all files under the input directory\n",
    "import os\n",
    "for dirname, _, filenames in os.walk('/kaggle/input'):\n",
    "    for filename in filenames:\n",
    "        print(os.path.join(dirname, filename))\n"
   ]
  },
  {
   "cell_type": "code",
   "execution_count": 2,
   "id": "a6dcc4b6",
   "metadata": {
    "execution": {
     "iopub.execute_input": "2024-03-14T13:10:36.005991Z",
     "iopub.status.busy": "2024-03-14T13:10:36.005010Z",
     "iopub.status.idle": "2024-03-14T13:10:36.010606Z",
     "shell.execute_reply": "2024-03-14T13:10:36.009638Z"
    },
    "papermill": {
     "duration": 0.017795,
     "end_time": "2024-03-14T13:10:36.013406",
     "exception": false,
     "start_time": "2024-03-14T13:10:35.995611",
     "status": "completed"
    },
    "tags": []
   },
   "outputs": [],
   "source": [
    "maxLen=64\n",
    "embed=300\n",
    "epochs=20\n"
   ]
  },
  {
   "cell_type": "code",
   "execution_count": 3,
   "id": "8883f4b0",
   "metadata": {
    "execution": {
     "iopub.execute_input": "2024-03-14T13:10:36.030574Z",
     "iopub.status.busy": "2024-03-14T13:10:36.029759Z",
     "iopub.status.idle": "2024-03-14T13:10:38.508114Z",
     "shell.execute_reply": "2024-03-14T13:10:38.505891Z"
    },
    "papermill": {
     "duration": 2.49081,
     "end_time": "2024-03-14T13:10:38.511571",
     "exception": false,
     "start_time": "2024-03-14T13:10:36.020761",
     "status": "completed"
    },
    "tags": []
   },
   "outputs": [
    {
     "name": "stdout",
     "output_type": "stream",
     "text": [
      "['EAP' 'HPL' 'MWS']\n"
     ]
    }
   ],
   "source": [
    "train_csv=pd.read_csv(\"/kaggle/input/ise-competition-1/train/train.csv\")\n",
    "train=train_csv.to_numpy(dtype=str)\n",
    "id = train[:,0]\n",
    "seq = train[:,1]\n",
    "out = train[:,2]\n",
    "possible_output,out_oh=one_hot(out)\n",
    "print(possible_output)\n"
   ]
  },
  {
   "cell_type": "code",
   "execution_count": 4,
   "id": "887fed95",
   "metadata": {
    "execution": {
     "iopub.execute_input": "2024-03-14T13:10:38.530198Z",
     "iopub.status.busy": "2024-03-14T13:10:38.529482Z",
     "iopub.status.idle": "2024-03-14T13:10:39.900016Z",
     "shell.execute_reply": "2024-03-14T13:10:39.897651Z"
    },
    "papermill": {
     "duration": 1.384059,
     "end_time": "2024-03-14T13:10:39.903457",
     "exception": false,
     "start_time": "2024-03-14T13:10:38.519398",
     "status": "completed"
    },
    "tags": []
   },
   "outputs": [
    {
     "name": "stdout",
     "output_type": "stream",
     "text": [
      "\"PIQUANT EXPRESSIONS.\n",
      "['\"', 'piquant', 'expressions', '.']\n"
     ]
    }
   ],
   "source": [
    "longest = max(seq, key=lambda x: len(re.findall(r'\\w+|\\S+', x.lower())))\n",
    "shortest= min(seq, key=lambda x: len(re.findall(r'\\w+|\\S+', x.lower())))\n",
    "#print (longest)\n",
    "print(shortest)\n",
    "print(slice_sequence(shortest))\n",
    "#maxLen = len(re.findall(r'\\w+|\\S+', longest.lower()))\n",
    "#maxLen = min(maxLen,200)"
   ]
  },
  {
   "cell_type": "code",
   "execution_count": 5,
   "id": "7ac1eb2d",
   "metadata": {
    "execution": {
     "iopub.execute_input": "2024-03-14T13:10:39.922689Z",
     "iopub.status.busy": "2024-03-14T13:10:39.922205Z",
     "iopub.status.idle": "2024-03-14T13:11:22.627748Z",
     "shell.execute_reply": "2024-03-14T13:11:22.626416Z"
    },
    "papermill": {
     "duration": 42.719453,
     "end_time": "2024-03-14T13:11:22.630994",
     "exception": false,
     "start_time": "2024-03-14T13:10:39.911541",
     "status": "completed"
    },
    "tags": []
   },
   "outputs": [],
   "source": [
    "word_to_index, index_to_word, word_to_vec_map = read_glove_vecs(f'/kaggle/input/glove6b/glove.6B.{embed}d.txt')"
   ]
  },
  {
   "cell_type": "code",
   "execution_count": 6,
   "id": "4d957623",
   "metadata": {
    "execution": {
     "iopub.execute_input": "2024-03-14T13:11:22.649214Z",
     "iopub.status.busy": "2024-03-14T13:11:22.648011Z",
     "iopub.status.idle": "2024-03-14T13:11:22.666186Z",
     "shell.execute_reply": "2024-03-14T13:11:22.664583Z"
    },
    "papermill": {
     "duration": 0.030275,
     "end_time": "2024-03-14T13:11:22.669084",
     "exception": false,
     "start_time": "2024-03-14T13:11:22.638809",
     "status": "completed"
    },
    "tags": []
   },
   "outputs": [],
   "source": [
    "def subseq_to_indices(seq,word_to_index,max_len):\n",
    "    indices=np.zeros(max_len)\n",
    "    j=0\n",
    "    for w in seq:\n",
    "        # if w exists in the word_to_index dictionary\n",
    "        if w in word_to_index:\n",
    "        # Set the (i,j)th entry of X_indices to the index of the correct word.\n",
    "            indices[j] = word_to_index[w]\n",
    "            j = j+1    \n",
    "    return indices\n",
    "    \n",
    "def process_data(id,seq,out,word_to_index,max_len):\n",
    "    \"\"\"\n",
    "    Converts an array of sentences (strings) into an array of indices corresponding to words in the sentences.\n",
    "    The output shape should be such that it can be given to `Embedding()` \n",
    "    if sentence is longer than maxlength then it will be split up to multiple sequences\n",
    "    \"\"\"\n",
    "    m = seq.shape[0]                                   # number of training examples\n",
    "    \n",
    "    # Initialize X_indices as a numpy matrix of zeros and the correct shape (≈ 1 line)\n",
    "    #X_indices = np.zeros((0,max_len))\n",
    "    id_list=[]\n",
    "    indices_list=[]\n",
    "    out_list=[]\n",
    "\n",
    "    for i in range(m):    # loop over training examples\n",
    "        # Convert the ith training sentence to lower case and split it into words\n",
    "        sentence_words= slice_sequence(seq[i])\n",
    "        slen=len(sentence_words)\n",
    "        # Initialize j to 0\n",
    "        j = 0\n",
    "        # Loop over the words of sentence_words\n",
    "        if slen<=max_len :\n",
    "            indices=subseq_to_indices(sentence_words,word_to_index,max_len)\n",
    "            indices_list.append(indices)\n",
    "            id_list.append(id[i])\n",
    "            if out is not None:\n",
    "                out_list.append(out[i])\n",
    "        else:\n",
    "            count = slen // max_len\n",
    "            last  = slen %  max_len\n",
    "            for c in range(count):\n",
    "                subseq=sentence_words[c*max_len:(c+1)*max_len]\n",
    "                indices=subseq_to_indices(subseq,word_to_index,max_len)\n",
    "                indices_list.append(indices)\n",
    "                id_list.append(id[i])\n",
    "                if out is not None:\n",
    "                    out_list.append(out[i])\n",
    "            if last!=0:\n",
    "                subseq=sentence_words[-max_len:]\n",
    "                indices=subseq_to_indices(subseq,word_to_index,max_len)\n",
    "                indices_list.append(indices)\n",
    "                id_list.append(id[i])\n",
    "                if out is not None:\n",
    "                    out_list.append(out[i])\n",
    "    id_train=np.array(id_list)\n",
    "    X_train=np.stack( indices_list, axis=0 )\n",
    "    Y_train=None\n",
    "    if out is not None:\n",
    "        Y_train=np.array(out_list)\n",
    "    return id_train,X_train,Y_train\n",
    "    "
   ]
  },
  {
   "cell_type": "code",
   "execution_count": 7,
   "id": "00f2ee54",
   "metadata": {
    "execution": {
     "iopub.execute_input": "2024-03-14T13:11:22.686434Z",
     "iopub.status.busy": "2024-03-14T13:11:22.685974Z",
     "iopub.status.idle": "2024-03-14T13:11:22.695100Z",
     "shell.execute_reply": "2024-03-14T13:11:22.693829Z"
    },
    "papermill": {
     "duration": 0.021094,
     "end_time": "2024-03-14T13:11:22.697843",
     "exception": false,
     "start_time": "2024-03-14T13:11:22.676749",
     "status": "completed"
    },
    "tags": []
   },
   "outputs": [],
   "source": [
    "# tokenize and create format\n",
    "def sentences_to_indices(X, word_to_index, max_len):\n",
    "    \"\"\"\n",
    "    Converts an array of sentences (strings) into an array of indices corresponding to words in the sentences.\n",
    "    The output shape should be such that it can be given to `Embedding()` \n",
    "    \n",
    "    Arguments:\n",
    "    X -- array of sentences (strings), of shape (m,)\n",
    "    word_to_index -- a dictionary containing the each word mapped to its index\n",
    "    max_len -- maximum number of words in a sentence. You can assume every sentence in X is no longer than this. \n",
    "    \n",
    "    Returns:\n",
    "    X_indices -- array of indices corresponding to words in the sentences from X, of shape (m, max_len)\n",
    "    \"\"\"\n",
    "    \n",
    "    m = X.shape[0]                                   # number of training examples\n",
    "    \n",
    "    # Initialize X_indices as a numpy matrix of zeros and the correct shape (≈ 1 line)\n",
    "    X_indices = np.zeros((m,max_len))\n",
    "    \n",
    "    for i in range(m):                               # loop over training examples\n",
    "        # Convert the ith training sentence to lower case and split it into words\n",
    "        sentence_words= slice_sequence(X[i])\n",
    "        # Initialize j to 0\n",
    "        j = 0\n",
    "        # Loop over the words of sentence_words\n",
    "        for w in sentence_words:\n",
    "            # if w exists in the word_to_index dictionary\n",
    "            if w in word_to_index:\n",
    "                # Set the (i,j)th entry of X_indices to the index of the correct word.\n",
    "                X_indices[i, j] = word_to_index[w]\n",
    "                j = j+1    \n",
    "                if j>=max_len:\n",
    "                    break\n",
    "    return X_indices"
   ]
  },
  {
   "cell_type": "code",
   "execution_count": 8,
   "id": "e3fc68df",
   "metadata": {
    "execution": {
     "iopub.execute_input": "2024-03-14T13:11:22.715208Z",
     "iopub.status.busy": "2024-03-14T13:11:22.714807Z",
     "iopub.status.idle": "2024-03-14T13:11:25.514598Z",
     "shell.execute_reply": "2024-03-14T13:11:25.511808Z"
    },
    "papermill": {
     "duration": 2.812515,
     "end_time": "2024-03-14T13:11:25.517988",
     "exception": false,
     "start_time": "2024-03-14T13:11:22.705473",
     "status": "completed"
    },
    "tags": []
   },
   "outputs": [
    {
     "name": "stdout",
     "output_type": "stream",
     "text": [
      "['id26305' 'id26305' 'id26305']\n",
      "['This process, however, afforded me no means of ascertaining the dimensions of my dungeon; as I might make its circuit, and return to the point whence I set out, without being aware of the fact; so perfectly uniform seemed the wall.']\n",
      "[[358161 292849    452 182574    452  47561 239106 262351 239198 268047\n",
      "   60830 357267 124214 268047 254259 130811  42950  60666 185458 243978]\n",
      " [231459 193920 101461    452  54719 307030 360916 357267 287480 386426\n",
      "  185458 325900 272931    452 388757  72183  64318 268047 357267 143955]\n",
      " [287480 386426 185458 325900 272931    452 388757  72183  64318 268047\n",
      "  357267 143955  42950 336115 281284 372015 323427 357267 382655    867]]\n",
      "[[358161 292849    452 182574    452  47561 239106 262351 239198 268047\n",
      "   60830 357267 124214 268047 254259 130811  42950  60666 185458 243978\n",
      "  231459 193920 101461    452  54719 307030 360916 357267 287480 386426\n",
      "  185458 325900 272931    452 388757  72183  64318 268047 357267 143955\n",
      "   42950 336115 281284 372015 323427 357267 382655    867      0      0\n",
      "       0      0      0      0      0      0      0      0      0      0\n",
      "       0      0      0      0]]\n",
      "[[1. 0. 0.]\n",
      " [1. 0. 0.]\n",
      " [1. 0. 0.]]\n",
      "20690\n"
     ]
    }
   ],
   "source": [
    "def process_test():\n",
    "    id_train,X_train,Y_train=process_data(id[0:1],\n",
    "                                          seq[0:1],\n",
    "                                          out_oh[0:1],\n",
    "                                          word_to_index,\n",
    "                                          20\n",
    "                                         )\n",
    "    print(id_train)\n",
    "    print(seq[0:1])\n",
    "    print(np.int32(X_train))\n",
    "\n",
    "    X_train2=sentences_to_indices(seq, word_to_index, maxLen)\n",
    "    print(np.int32(X_train2[0:1]))\n",
    "    print(Y_train)\n",
    "process_test();\n",
    "\n",
    "#print(np.int32(X_train[0:5]))\n",
    "#print(Y_train[0:5])\n",
    "id_train,X_train,Y_train=process_data(id,\n",
    "                                    seq,\n",
    "                                    out_oh,\n",
    "                                    word_to_index,\n",
    "                                    maxLen)\n",
    "print(X_train.shape[0])"
   ]
  },
  {
   "cell_type": "code",
   "execution_count": 9,
   "id": "d7b1291e",
   "metadata": {
    "execution": {
     "iopub.execute_input": "2024-03-14T13:11:25.541431Z",
     "iopub.status.busy": "2024-03-14T13:11:25.540904Z",
     "iopub.status.idle": "2024-03-14T13:11:40.854999Z",
     "shell.execute_reply": "2024-03-14T13:11:40.853641Z"
    },
    "papermill": {
     "duration": 15.328823,
     "end_time": "2024-03-14T13:11:40.858093",
     "exception": false,
     "start_time": "2024-03-14T13:11:25.529270",
     "status": "completed"
    },
    "tags": []
   },
   "outputs": [
    {
     "name": "stderr",
     "output_type": "stream",
     "text": [
      "2024-03-14 13:11:27.847374: E external/local_xla/xla/stream_executor/cuda/cuda_dnn.cc:9261] Unable to register cuDNN factory: Attempting to register factory for plugin cuDNN when one has already been registered\n",
      "2024-03-14 13:11:27.847522: E external/local_xla/xla/stream_executor/cuda/cuda_fft.cc:607] Unable to register cuFFT factory: Attempting to register factory for plugin cuFFT when one has already been registered\n",
      "2024-03-14 13:11:28.022154: E external/local_xla/xla/stream_executor/cuda/cuda_blas.cc:1515] Unable to register cuBLAS factory: Attempting to register factory for plugin cuBLAS when one has already been registered\n"
     ]
    }
   ],
   "source": [
    "import tensorflow\n",
    "np.random.seed(0)\n",
    "from tensorflow.keras.models import Model\n",
    "from tensorflow.keras.layers import Dense, Input, Dropout, LSTM, Activation\n",
    "from tensorflow.keras.layers import Embedding\n",
    "from tensorflow.keras.preprocessing import sequence\n",
    "from tensorflow.keras.initializers import glorot_uniform\n",
    "np.random.seed(1)"
   ]
  },
  {
   "cell_type": "code",
   "execution_count": 10,
   "id": "9c58c6da",
   "metadata": {
    "execution": {
     "iopub.execute_input": "2024-03-14T13:11:40.877296Z",
     "iopub.status.busy": "2024-03-14T13:11:40.876563Z",
     "iopub.status.idle": "2024-03-14T13:11:40.886173Z",
     "shell.execute_reply": "2024-03-14T13:11:40.884849Z"
    },
    "papermill": {
     "duration": 0.021817,
     "end_time": "2024-03-14T13:11:40.888670",
     "exception": false,
     "start_time": "2024-03-14T13:11:40.866853",
     "status": "completed"
    },
    "tags": []
   },
   "outputs": [],
   "source": [
    "def pretrained_embedding_layer(word_to_vec_map, word_to_index):\n",
    "    \"\"\"\n",
    "    Creates a Keras Embedding() layer and loads in pre-trained GloVe 50-dimensional vectors.\n",
    "    \n",
    "    Arguments:\n",
    "    word_to_vec_map -- dictionary mapping words to their GloVe vector representation.\n",
    "    word_to_index -- dictionary mapping from words to their indices in the vocabulary (400,001 words)\n",
    "\n",
    "    Returns:\n",
    "    embedding_layer -- pretrained layer Keras instance\n",
    "    \"\"\"\n",
    "    \n",
    "    vocab_size = len(word_to_index) + 1              # adding 1 to fit Keras embedding (requirement)\n",
    "    any_word = next(iter(word_to_vec_map.keys()))\n",
    "    emb_dim = word_to_vec_map[any_word].shape[0]    # define dimensionality of your GloVe word vectors (= 50)\n",
    "      \n",
    "    # Initialize the embedding matrix as a numpy array of zeros.\n",
    "    emb_matrix = np.zeros((vocab_size,emb_dim))\n",
    "    \n",
    "    # Set each row \"idx\" of the embedding matrix to be \n",
    "    # the word vector representation of the idx'th word of the vocabulary\n",
    "    for word, idx in word_to_index.items():\n",
    "        emb_matrix[idx, :] = word_to_vec_map[word]\n",
    "\n",
    "    # Define Keras embedding layer with the correct input and output sizes\n",
    "    # Make it non-trainable.\n",
    "    embedding_layer = Embedding(vocab_size,emb_dim)\n",
    "\n",
    "    # Build the embedding layer, it is required before setting the weights of the embedding layer. \n",
    "    embedding_layer.build((None,)) # Do not modify the \"None\".  This line of code is complete as-is.\n",
    "    # Set the weights of the embedding layer to the embedding matrix. Your layer is now pretrained.\n",
    "    embedding_layer.set_weights([emb_matrix])\n",
    "    embedding_layer.trainable = False\n",
    "\n",
    "    return embedding_layer"
   ]
  },
  {
   "cell_type": "code",
   "execution_count": 11,
   "id": "6d848861",
   "metadata": {
    "execution": {
     "iopub.execute_input": "2024-03-14T13:11:40.907618Z",
     "iopub.status.busy": "2024-03-14T13:11:40.906816Z",
     "iopub.status.idle": "2024-03-14T13:11:40.918131Z",
     "shell.execute_reply": "2024-03-14T13:11:40.916665Z"
    },
    "papermill": {
     "duration": 0.024405,
     "end_time": "2024-03-14T13:11:40.921003",
     "exception": false,
     "start_time": "2024-03-14T13:11:40.896598",
     "status": "completed"
    },
    "tags": []
   },
   "outputs": [],
   "source": [
    "# Model Authorize_s3\n",
    "\n",
    "def Authorize_s3(input_shape,softmax_size, word_to_vec_map, word_to_index):\n",
    "    \"\"\"\n",
    "    Function creating the Emojify-v2 model's graph.\n",
    "    \n",
    "    Arguments:\n",
    "    input_shape -- shape of the input, usually (max_len,)\n",
    "    word_to_vec_map -- dictionary mapping every word in a vocabulary into its 50-dimensional vector representation\n",
    "    word_to_index -- dictionary mapping from words to their indices in the vocabulary (400,001 words)\n",
    "\n",
    "    Returns:\n",
    "    model -- a model instance in Keras\n",
    "    \"\"\"\n",
    "    \n",
    "    # Define sentence_indices as the input of the graph.\n",
    "    # It should be of shape input_shape and dtype 'int32' (as it contains indices, which are integers).\n",
    "    sentence_indices = Input(shape=input_shape,dtype='int32')\n",
    "    # Create the embedding layer pretrained with GloVe Vectors (≈1 line)\n",
    "    embedding_layer = pretrained_embedding_layer(word_to_vec_map,word_to_index)\n",
    "    # Propagate sentence_indices through your embedding layer\n",
    "    embeddings = embedding_layer(sentence_indices)   \n",
    "    \n",
    "    # Propagate the embeddings through an LSTM layer with 128-dimensional hidden state\n",
    "    # The returned output should be a batch of sequences.\n",
    "    X = LSTM(units=256,return_sequences=True)(embeddings)\n",
    "    # Add dropout with a probability of 0.5\n",
    "    X = Dropout(0.5)(X)\n",
    "    # Propagate X trough another LSTM layer with 128-dimensional hidden state\n",
    "    # The returned output should be a single hidden state, not a batch of sequences.\n",
    "    X = LSTM(units=256,return_sequences=False)(X)\n",
    "    # Add dropout with a probability of 0.5\n",
    "    X = Dropout(0.5)(X)\n",
    "    # Propagate X through a Dense layer \n",
    "    X = Dense(softmax_size)(X)\n",
    "    # Add a softmax activation\n",
    "    X = Activation('softmax')(X)\n",
    "    \n",
    "    # Create Model instance which converts sentence_indices into X.\n",
    "    model = Model(sentence_indices,X)\n",
    "        \n",
    "    return model"
   ]
  },
  {
   "cell_type": "code",
   "execution_count": 12,
   "id": "6e820aec",
   "metadata": {
    "execution": {
     "iopub.execute_input": "2024-03-14T13:11:40.939768Z",
     "iopub.status.busy": "2024-03-14T13:11:40.939344Z",
     "iopub.status.idle": "2024-03-14T13:11:47.045333Z",
     "shell.execute_reply": "2024-03-14T13:11:47.043992Z"
    },
    "papermill": {
     "duration": 6.119185,
     "end_time": "2024-03-14T13:11:47.048390",
     "exception": false,
     "start_time": "2024-03-14T13:11:40.929205",
     "status": "completed"
    },
    "tags": []
   },
   "outputs": [
    {
     "data": {
      "text/html": [
       "<pre style=\"white-space:pre;overflow-x:auto;line-height:normal;font-family:Menlo,'DejaVu Sans Mono',consolas,'Courier New',monospace\"><span style=\"font-weight: bold\">Model: \"functional_1\"</span>\n",
       "</pre>\n"
      ],
      "text/plain": [
       "\u001b[1mModel: \"functional_1\"\u001b[0m\n"
      ]
     },
     "metadata": {},
     "output_type": "display_data"
    },
    {
     "data": {
      "text/html": [
       "<pre style=\"white-space:pre;overflow-x:auto;line-height:normal;font-family:Menlo,'DejaVu Sans Mono',consolas,'Courier New',monospace\">┏━━━━━━━━━━━━━━━━━━━━━━━━━━━━━━━━━┳━━━━━━━━━━━━━━━━━━━━━━━━┳━━━━━━━━━━━━━━━┓\n",
       "┃<span style=\"font-weight: bold\"> Layer (type)                    </span>┃<span style=\"font-weight: bold\"> Output Shape           </span>┃<span style=\"font-weight: bold\">       Param # </span>┃\n",
       "┡━━━━━━━━━━━━━━━━━━━━━━━━━━━━━━━━━╇━━━━━━━━━━━━━━━━━━━━━━━━╇━━━━━━━━━━━━━━━┩\n",
       "│ input_layer (<span style=\"color: #0087ff; text-decoration-color: #0087ff\">InputLayer</span>)        │ (<span style=\"color: #00d7ff; text-decoration-color: #00d7ff\">None</span>, <span style=\"color: #00af00; text-decoration-color: #00af00\">64</span>)             │             <span style=\"color: #00af00; text-decoration-color: #00af00\">0</span> │\n",
       "├─────────────────────────────────┼────────────────────────┼───────────────┤\n",
       "│ embedding (<span style=\"color: #0087ff; text-decoration-color: #0087ff\">Embedding</span>)           │ (<span style=\"color: #00d7ff; text-decoration-color: #00d7ff\">None</span>, <span style=\"color: #00af00; text-decoration-color: #00af00\">64</span>, <span style=\"color: #00af00; text-decoration-color: #00af00\">300</span>)        │   <span style=\"color: #00af00; text-decoration-color: #00af00\">120,000,600</span> │\n",
       "├─────────────────────────────────┼────────────────────────┼───────────────┤\n",
       "│ lstm (<span style=\"color: #0087ff; text-decoration-color: #0087ff\">LSTM</span>)                     │ (<span style=\"color: #00d7ff; text-decoration-color: #00d7ff\">None</span>, <span style=\"color: #00af00; text-decoration-color: #00af00\">64</span>, <span style=\"color: #00af00; text-decoration-color: #00af00\">256</span>)        │       <span style=\"color: #00af00; text-decoration-color: #00af00\">570,368</span> │\n",
       "├─────────────────────────────────┼────────────────────────┼───────────────┤\n",
       "│ dropout (<span style=\"color: #0087ff; text-decoration-color: #0087ff\">Dropout</span>)               │ (<span style=\"color: #00d7ff; text-decoration-color: #00d7ff\">None</span>, <span style=\"color: #00af00; text-decoration-color: #00af00\">64</span>, <span style=\"color: #00af00; text-decoration-color: #00af00\">256</span>)        │             <span style=\"color: #00af00; text-decoration-color: #00af00\">0</span> │\n",
       "├─────────────────────────────────┼────────────────────────┼───────────────┤\n",
       "│ lstm_1 (<span style=\"color: #0087ff; text-decoration-color: #0087ff\">LSTM</span>)                   │ (<span style=\"color: #00d7ff; text-decoration-color: #00d7ff\">None</span>, <span style=\"color: #00af00; text-decoration-color: #00af00\">256</span>)            │       <span style=\"color: #00af00; text-decoration-color: #00af00\">525,312</span> │\n",
       "├─────────────────────────────────┼────────────────────────┼───────────────┤\n",
       "│ dropout_1 (<span style=\"color: #0087ff; text-decoration-color: #0087ff\">Dropout</span>)             │ (<span style=\"color: #00d7ff; text-decoration-color: #00d7ff\">None</span>, <span style=\"color: #00af00; text-decoration-color: #00af00\">256</span>)            │             <span style=\"color: #00af00; text-decoration-color: #00af00\">0</span> │\n",
       "├─────────────────────────────────┼────────────────────────┼───────────────┤\n",
       "│ dense (<span style=\"color: #0087ff; text-decoration-color: #0087ff\">Dense</span>)                   │ (<span style=\"color: #00d7ff; text-decoration-color: #00d7ff\">None</span>, <span style=\"color: #00af00; text-decoration-color: #00af00\">3</span>)              │           <span style=\"color: #00af00; text-decoration-color: #00af00\">771</span> │\n",
       "├─────────────────────────────────┼────────────────────────┼───────────────┤\n",
       "│ activation (<span style=\"color: #0087ff; text-decoration-color: #0087ff\">Activation</span>)         │ (<span style=\"color: #00d7ff; text-decoration-color: #00d7ff\">None</span>, <span style=\"color: #00af00; text-decoration-color: #00af00\">3</span>)              │             <span style=\"color: #00af00; text-decoration-color: #00af00\">0</span> │\n",
       "└─────────────────────────────────┴────────────────────────┴───────────────┘\n",
       "</pre>\n"
      ],
      "text/plain": [
       "┏━━━━━━━━━━━━━━━━━━━━━━━━━━━━━━━━━┳━━━━━━━━━━━━━━━━━━━━━━━━┳━━━━━━━━━━━━━━━┓\n",
       "┃\u001b[1m \u001b[0m\u001b[1mLayer (type)                   \u001b[0m\u001b[1m \u001b[0m┃\u001b[1m \u001b[0m\u001b[1mOutput Shape          \u001b[0m\u001b[1m \u001b[0m┃\u001b[1m \u001b[0m\u001b[1m      Param #\u001b[0m\u001b[1m \u001b[0m┃\n",
       "┡━━━━━━━━━━━━━━━━━━━━━━━━━━━━━━━━━╇━━━━━━━━━━━━━━━━━━━━━━━━╇━━━━━━━━━━━━━━━┩\n",
       "│ input_layer (\u001b[38;5;33mInputLayer\u001b[0m)        │ (\u001b[38;5;45mNone\u001b[0m, \u001b[38;5;34m64\u001b[0m)             │             \u001b[38;5;34m0\u001b[0m │\n",
       "├─────────────────────────────────┼────────────────────────┼───────────────┤\n",
       "│ embedding (\u001b[38;5;33mEmbedding\u001b[0m)           │ (\u001b[38;5;45mNone\u001b[0m, \u001b[38;5;34m64\u001b[0m, \u001b[38;5;34m300\u001b[0m)        │   \u001b[38;5;34m120,000,600\u001b[0m │\n",
       "├─────────────────────────────────┼────────────────────────┼───────────────┤\n",
       "│ lstm (\u001b[38;5;33mLSTM\u001b[0m)                     │ (\u001b[38;5;45mNone\u001b[0m, \u001b[38;5;34m64\u001b[0m, \u001b[38;5;34m256\u001b[0m)        │       \u001b[38;5;34m570,368\u001b[0m │\n",
       "├─────────────────────────────────┼────────────────────────┼───────────────┤\n",
       "│ dropout (\u001b[38;5;33mDropout\u001b[0m)               │ (\u001b[38;5;45mNone\u001b[0m, \u001b[38;5;34m64\u001b[0m, \u001b[38;5;34m256\u001b[0m)        │             \u001b[38;5;34m0\u001b[0m │\n",
       "├─────────────────────────────────┼────────────────────────┼───────────────┤\n",
       "│ lstm_1 (\u001b[38;5;33mLSTM\u001b[0m)                   │ (\u001b[38;5;45mNone\u001b[0m, \u001b[38;5;34m256\u001b[0m)            │       \u001b[38;5;34m525,312\u001b[0m │\n",
       "├─────────────────────────────────┼────────────────────────┼───────────────┤\n",
       "│ dropout_1 (\u001b[38;5;33mDropout\u001b[0m)             │ (\u001b[38;5;45mNone\u001b[0m, \u001b[38;5;34m256\u001b[0m)            │             \u001b[38;5;34m0\u001b[0m │\n",
       "├─────────────────────────────────┼────────────────────────┼───────────────┤\n",
       "│ dense (\u001b[38;5;33mDense\u001b[0m)                   │ (\u001b[38;5;45mNone\u001b[0m, \u001b[38;5;34m3\u001b[0m)              │           \u001b[38;5;34m771\u001b[0m │\n",
       "├─────────────────────────────────┼────────────────────────┼───────────────┤\n",
       "│ activation (\u001b[38;5;33mActivation\u001b[0m)         │ (\u001b[38;5;45mNone\u001b[0m, \u001b[38;5;34m3\u001b[0m)              │             \u001b[38;5;34m0\u001b[0m │\n",
       "└─────────────────────────────────┴────────────────────────┴───────────────┘\n"
      ]
     },
     "metadata": {},
     "output_type": "display_data"
    },
    {
     "data": {
      "text/html": [
       "<pre style=\"white-space:pre;overflow-x:auto;line-height:normal;font-family:Menlo,'DejaVu Sans Mono',consolas,'Courier New',monospace\"><span style=\"font-weight: bold\"> Total params: </span><span style=\"color: #00af00; text-decoration-color: #00af00\">121,097,051</span> (461.95 MB)\n",
       "</pre>\n"
      ],
      "text/plain": [
       "\u001b[1m Total params: \u001b[0m\u001b[38;5;34m121,097,051\u001b[0m (461.95 MB)\n"
      ]
     },
     "metadata": {},
     "output_type": "display_data"
    },
    {
     "data": {
      "text/html": [
       "<pre style=\"white-space:pre;overflow-x:auto;line-height:normal;font-family:Menlo,'DejaVu Sans Mono',consolas,'Courier New',monospace\"><span style=\"font-weight: bold\"> Trainable params: </span><span style=\"color: #00af00; text-decoration-color: #00af00\">1,096,451</span> (4.18 MB)\n",
       "</pre>\n"
      ],
      "text/plain": [
       "\u001b[1m Trainable params: \u001b[0m\u001b[38;5;34m1,096,451\u001b[0m (4.18 MB)\n"
      ]
     },
     "metadata": {},
     "output_type": "display_data"
    },
    {
     "data": {
      "text/html": [
       "<pre style=\"white-space:pre;overflow-x:auto;line-height:normal;font-family:Menlo,'DejaVu Sans Mono',consolas,'Courier New',monospace\"><span style=\"font-weight: bold\"> Non-trainable params: </span><span style=\"color: #00af00; text-decoration-color: #00af00\">120,000,600</span> (457.77 MB)\n",
       "</pre>\n"
      ],
      "text/plain": [
       "\u001b[1m Non-trainable params: \u001b[0m\u001b[38;5;34m120,000,600\u001b[0m (457.77 MB)\n"
      ]
     },
     "metadata": {},
     "output_type": "display_data"
    }
   ],
   "source": [
    "model = Authorize_s3((maxLen,),len(possible_output), word_to_vec_map, word_to_index)\n",
    "model.layers[0].trainable = False\n",
    "model.summary()"
   ]
  },
  {
   "cell_type": "code",
   "execution_count": 13,
   "id": "7de7e5e7",
   "metadata": {
    "execution": {
     "iopub.execute_input": "2024-03-14T13:11:47.070196Z",
     "iopub.status.busy": "2024-03-14T13:11:47.069732Z",
     "iopub.status.idle": "2024-03-14T13:11:47.086704Z",
     "shell.execute_reply": "2024-03-14T13:11:47.085592Z"
    },
    "papermill": {
     "duration": 0.03213,
     "end_time": "2024-03-14T13:11:47.089582",
     "exception": false,
     "start_time": "2024-03-14T13:11:47.057452",
     "status": "completed"
    },
    "tags": []
   },
   "outputs": [],
   "source": [
    "model.compile(loss='categorical_crossentropy',\n",
    "              optimizer=tensorflow.keras.optimizers.Adam(learning_rate=0.0003),\n",
    "              metrics=['accuracy'])"
   ]
  },
  {
   "cell_type": "code",
   "execution_count": 14,
   "id": "411eba6a",
   "metadata": {
    "execution": {
     "iopub.execute_input": "2024-03-14T13:11:47.111476Z",
     "iopub.status.busy": "2024-03-14T13:11:47.111020Z",
     "iopub.status.idle": "2024-03-14T14:12:50.677342Z",
     "shell.execute_reply": "2024-03-14T14:12:50.675130Z"
    },
    "papermill": {
     "duration": 3664.220892,
     "end_time": "2024-03-14T14:12:51.320521",
     "exception": false,
     "start_time": "2024-03-14T13:11:47.099629",
     "status": "completed"
    },
    "tags": []
   },
   "outputs": [
    {
     "name": "stdout",
     "output_type": "stream",
     "text": [
      "Epoch 1/20\n",
      "\u001b[1m324/324\u001b[0m \u001b[32m━━━━━━━━━━━━━━━━━━━━\u001b[0m\u001b[37m\u001b[0m \u001b[1m157s\u001b[0m 471ms/step - accuracy: 0.4942 - loss: 0.9903\n",
      "Epoch 2/20\n",
      "\u001b[1m324/324\u001b[0m \u001b[32m━━━━━━━━━━━━━━━━━━━━\u001b[0m\u001b[37m\u001b[0m \u001b[1m224s\u001b[0m 540ms/step - accuracy: 0.7061 - loss: 0.7078\n",
      "Epoch 3/20\n",
      "\u001b[1m324/324\u001b[0m \u001b[32m━━━━━━━━━━━━━━━━━━━━\u001b[0m\u001b[37m\u001b[0m \u001b[1m199s\u001b[0m 531ms/step - accuracy: 0.7405 - loss: 0.6402\n",
      "Epoch 4/20\n",
      "\u001b[1m324/324\u001b[0m \u001b[32m━━━━━━━━━━━━━━━━━━━━\u001b[0m\u001b[37m\u001b[0m \u001b[1m161s\u001b[0m 498ms/step - accuracy: 0.7693 - loss: 0.5742\n",
      "Epoch 5/20\n",
      "\u001b[1m324/324\u001b[0m \u001b[32m━━━━━━━━━━━━━━━━━━━━\u001b[0m\u001b[37m\u001b[0m \u001b[1m199s\u001b[0m 489ms/step - accuracy: 0.7881 - loss: 0.5275\n",
      "Epoch 6/20\n",
      "\u001b[1m324/324\u001b[0m \u001b[32m━━━━━━━━━━━━━━━━━━━━\u001b[0m\u001b[37m\u001b[0m \u001b[1m157s\u001b[0m 485ms/step - accuracy: 0.8108 - loss: 0.4826\n",
      "Epoch 7/20\n",
      "\u001b[1m324/324\u001b[0m \u001b[32m━━━━━━━━━━━━━━━━━━━━\u001b[0m\u001b[37m\u001b[0m \u001b[1m223s\u001b[0m 551ms/step - accuracy: 0.8314 - loss: 0.4261\n",
      "Epoch 8/20\n",
      "\u001b[1m324/324\u001b[0m \u001b[32m━━━━━━━━━━━━━━━━━━━━\u001b[0m\u001b[37m\u001b[0m \u001b[1m182s\u001b[0m 560ms/step - accuracy: 0.8486 - loss: 0.3934\n",
      "Epoch 9/20\n",
      "\u001b[1m324/324\u001b[0m \u001b[32m━━━━━━━━━━━━━━━━━━━━\u001b[0m\u001b[37m\u001b[0m \u001b[1m174s\u001b[0m 535ms/step - accuracy: 0.8660 - loss: 0.3482\n",
      "Epoch 10/20\n",
      "\u001b[1m324/324\u001b[0m \u001b[32m━━━━━━━━━━━━━━━━━━━━\u001b[0m\u001b[37m\u001b[0m \u001b[1m188s\u001b[0m 493ms/step - accuracy: 0.8750 - loss: 0.3276\n",
      "Epoch 11/20\n",
      "\u001b[1m324/324\u001b[0m \u001b[32m━━━━━━━━━━━━━━━━━━━━\u001b[0m\u001b[37m\u001b[0m \u001b[1m198s\u001b[0m 483ms/step - accuracy: 0.8958 - loss: 0.2852\n",
      "Epoch 12/20\n",
      "\u001b[1m324/324\u001b[0m \u001b[32m━━━━━━━━━━━━━━━━━━━━\u001b[0m\u001b[37m\u001b[0m \u001b[1m157s\u001b[0m 485ms/step - accuracy: 0.9048 - loss: 0.2522\n",
      "Epoch 13/20\n",
      "\u001b[1m324/324\u001b[0m \u001b[32m━━━━━━━━━━━━━━━━━━━━\u001b[0m\u001b[37m\u001b[0m \u001b[1m158s\u001b[0m 488ms/step - accuracy: 0.9165 - loss: 0.2275\n",
      "Epoch 14/20\n",
      "\u001b[1m324/324\u001b[0m \u001b[32m━━━━━━━━━━━━━━━━━━━━\u001b[0m\u001b[37m\u001b[0m \u001b[1m157s\u001b[0m 485ms/step - accuracy: 0.9260 - loss: 0.2020\n",
      "Epoch 15/20\n",
      "\u001b[1m324/324\u001b[0m \u001b[32m━━━━━━━━━━━━━━━━━━━━\u001b[0m\u001b[37m\u001b[0m \u001b[1m204s\u001b[0m 492ms/step - accuracy: 0.9392 - loss: 0.1734\n",
      "Epoch 16/20\n",
      "\u001b[1m324/324\u001b[0m \u001b[32m━━━━━━━━━━━━━━━━━━━━\u001b[0m\u001b[37m\u001b[0m \u001b[1m201s\u001b[0m 490ms/step - accuracy: 0.9376 - loss: 0.1681\n",
      "Epoch 17/20\n",
      "\u001b[1m324/324\u001b[0m \u001b[32m━━━━━━━━━━━━━━━━━━━━\u001b[0m\u001b[37m\u001b[0m \u001b[1m164s\u001b[0m 506ms/step - accuracy: 0.9478 - loss: 0.1443\n",
      "Epoch 18/20\n",
      "\u001b[1m324/324\u001b[0m \u001b[32m━━━━━━━━━━━━━━━━━━━━\u001b[0m\u001b[37m\u001b[0m \u001b[1m155s\u001b[0m 480ms/step - accuracy: 0.9548 - loss: 0.1279\n",
      "Epoch 19/20\n",
      "\u001b[1m324/324\u001b[0m \u001b[32m━━━━━━━━━━━━━━━━━━━━\u001b[0m\u001b[37m\u001b[0m \u001b[1m156s\u001b[0m 482ms/step - accuracy: 0.9508 - loss: 0.1370\n",
      "Epoch 20/20\n",
      "\u001b[1m324/324\u001b[0m \u001b[32m━━━━━━━━━━━━━━━━━━━━\u001b[0m\u001b[37m\u001b[0m \u001b[1m195s\u001b[0m 461ms/step - accuracy: 0.9638 - loss: 0.1049\n"
     ]
    },
    {
     "data": {
      "text/plain": [
       "<keras.src.callbacks.history.History at 0x792596212e30>"
      ]
     },
     "execution_count": 14,
     "metadata": {},
     "output_type": "execute_result"
    }
   ],
   "source": [
    "model.fit(X_train, Y_train, epochs = epochs, batch_size = 64, shuffle=True)"
   ]
  },
  {
   "cell_type": "code",
   "execution_count": 15,
   "id": "511032c5",
   "metadata": {
    "execution": {
     "iopub.execute_input": "2024-03-14T14:12:52.702027Z",
     "iopub.status.busy": "2024-03-14T14:12:52.701496Z",
     "iopub.status.idle": "2024-03-14T14:12:53.735904Z",
     "shell.execute_reply": "2024-03-14T14:12:53.734715Z"
    },
    "papermill": {
     "duration": 1.77921,
     "end_time": "2024-03-14T14:12:53.738935",
     "exception": false,
     "start_time": "2024-03-14T14:12:51.959725",
     "status": "completed"
    },
    "tags": []
   },
   "outputs": [],
   "source": [
    "model.save(f'/kaggle/working/modelv2_len{maxLen}_embed{embed}_ep{epochs}.h5')\n"
   ]
  },
  {
   "cell_type": "code",
   "execution_count": 16,
   "id": "18fa9b61",
   "metadata": {
    "execution": {
     "iopub.execute_input": "2024-03-14T14:12:55.027379Z",
     "iopub.status.busy": "2024-03-14T14:12:55.026259Z",
     "iopub.status.idle": "2024-03-14T14:12:55.938175Z",
     "shell.execute_reply": "2024-03-14T14:12:55.936845Z"
    },
    "papermill": {
     "duration": 1.555613,
     "end_time": "2024-03-14T14:12:55.940699",
     "exception": false,
     "start_time": "2024-03-14T14:12:54.385086",
     "status": "completed"
    },
    "tags": []
   },
   "outputs": [
    {
     "name": "stdout",
     "output_type": "stream",
     "text": [
      "['Still, as I urged our leaving Ireland with such inquietude and impatience, my father thought it best to yield.'\n",
      " 'If a fire wanted fanning, it could readily be fanned with a newspaper, and as the government grew weaker, I have no doubt that leather and iron acquired durability in proportion, for, in a very short time, there was not a pair of bellows in all Rotterdam that ever stood in need of a stitch or required the assistance of a hammer.'\n",
      " 'And when they had broken down the frail door they found only this: two cleanly picked human skeletons on the earthen floor, and a number of singular beetles crawling in the shadowy corners.'\n",
      " ...\n",
      " 'It is easily understood that what might improve a closely scrutinized detail, may at the same time injure a general or more distantly observed effect.'\n",
      " 'Be this as it may, I now began to feel the inspiration of a burning hope, and at length nurtured in my secret thoughts a stern and desperate resolution that I would submit no longer to be enslaved.'\n",
      " 'Long winded, statistical, and drearily genealogical as some of the matter was, there ran through it a continuous thread of brooding, tenacious horror and preternatural malevolence which impressed me even more than it had impressed the good doctor.']\n"
     ]
    }
   ],
   "source": [
    "test_csv=pd.read_csv(\"/kaggle/input/ise-competition-1/test/test.csv\")\n",
    "test=test_csv.to_numpy(dtype=str)\n",
    "id_test = test[:,0]\n",
    "seq_test = test[:,1]\n",
    "X_test=sentences_to_indices(seq_test, word_to_index, maxLen)\n",
    "print(seq_test)"
   ]
  },
  {
   "cell_type": "code",
   "execution_count": 17,
   "id": "cb143140",
   "metadata": {
    "execution": {
     "iopub.execute_input": "2024-03-14T14:12:57.319060Z",
     "iopub.status.busy": "2024-03-14T14:12:57.318220Z",
     "iopub.status.idle": "2024-03-14T14:13:30.276135Z",
     "shell.execute_reply": "2024-03-14T14:13:30.274854Z"
    },
    "papermill": {
     "duration": 33.602952,
     "end_time": "2024-03-14T14:13:30.279002",
     "exception": false,
     "start_time": "2024-03-14T14:12:56.676050",
     "status": "completed"
    },
    "tags": []
   },
   "outputs": [
    {
     "name": "stdout",
     "output_type": "stream",
     "text": [
      "\u001b[1m263/263\u001b[0m \u001b[32m━━━━━━━━━━━━━━━━━━━━\u001b[0m\u001b[37m\u001b[0m \u001b[1m33s\u001b[0m 123ms/step\n"
     ]
    }
   ],
   "source": [
    "Y_test= model.predict(X_test)"
   ]
  },
  {
   "cell_type": "code",
   "execution_count": 18,
   "id": "aefb91b8",
   "metadata": {
    "execution": {
     "iopub.execute_input": "2024-03-14T14:13:31.604482Z",
     "iopub.status.busy": "2024-03-14T14:13:31.603506Z",
     "iopub.status.idle": "2024-03-14T14:13:31.876738Z",
     "shell.execute_reply": "2024-03-14T14:13:31.875620Z"
    },
    "papermill": {
     "duration": 0.936303,
     "end_time": "2024-03-14T14:13:31.879143",
     "exception": false,
     "start_time": "2024-03-14T14:13:30.942840",
     "status": "completed"
    },
    "tags": []
   },
   "outputs": [
    {
     "name": "stdout",
     "output_type": "stream",
     "text": [
      "           id       EAP       HPL       MWS\n",
      "0     id02310  0.000060  0.000026  0.999914\n",
      "1     id24541  0.997728  0.001504  0.000768\n",
      "2     id00134  0.000140  0.999843  0.000017\n",
      "3     id27757  0.993564  0.001667  0.004769\n",
      "4     id04081  0.843007  0.033715  0.123278\n",
      "...       ...       ...       ...       ...\n",
      "8387  id11749  0.967508  0.012379  0.020113\n",
      "8388  id10526  0.001379  0.000300  0.998321\n",
      "8389  id13477  0.993607  0.004993  0.001400\n",
      "8390  id13761  0.217795  0.015213  0.766992\n",
      "8391  id04282  0.000157  0.999817  0.000026\n",
      "\n",
      "[8392 rows x 4 columns]\n"
     ]
    }
   ],
   "source": [
    "import csv\n",
    "#np.set_printoptions(formatter={'float': lambda x: \"{0:0.3f}\".format(x)})\n",
    "#print(Y_test)\n",
    "eap_i=0\n",
    "hpl_i=0\n",
    "mws_i=0\n",
    "for i in range(len(possible_output)):\n",
    "    if possible_output[i]==\"EAP\":\n",
    "        eap_i=i\n",
    "    if possible_output[i]==\"HPL\":\n",
    "        hpl_i=i\n",
    "    if possible_output[i]==\"MWS\":\n",
    "        mws_i=i\n",
    "predict = []\n",
    "for i in range(len(id_test)):\n",
    "    predict.append(\n",
    "        {\n",
    "            'id' : id_test[i],\n",
    "            'EAP': Y_test[i][eap_i],\n",
    "            'HPL': Y_test[i][hpl_i],\n",
    "            'MWS': Y_test[i][mws_i],\n",
    "        }\n",
    "    )\n",
    "print(pd.DataFrame(predict))\n",
    "pd.DataFrame(predict).to_csv(\"/kaggle/working/predict.csv\",\n",
    "                            index=False,\n",
    "                            quotechar='\"',\n",
    "                            quoting=csv.QUOTE_NONNUMERIC)\n"
   ]
  }
 ],
 "metadata": {
  "kaggle": {
   "accelerator": "none",
   "dataSources": [
    {
     "databundleVersionId": 7916195,
     "sourceId": 72272,
     "sourceType": "competition"
    },
    {
     "datasetId": 4589173,
     "sourceId": 7830641,
     "sourceType": "datasetVersion"
    }
   ],
   "dockerImageVersionId": 30664,
   "isGpuEnabled": false,
   "isInternetEnabled": true,
   "language": "python",
   "sourceType": "notebook"
  },
  "kernelspec": {
   "display_name": "Python 3",
   "language": "python",
   "name": "python3"
  },
  "language_info": {
   "codemirror_mode": {
    "name": "ipython",
    "version": 3
   },
   "file_extension": ".py",
   "mimetype": "text/x-python",
   "name": "python",
   "nbconvert_exporter": "python",
   "pygments_lexer": "ipython3",
   "version": "3.10.13"
  },
  "papermill": {
   "default_parameters": {},
   "duration": 3784.193762,
   "end_time": "2024-03-14T14:13:35.364871",
   "environment_variables": {},
   "exception": null,
   "input_path": "__notebook__.ipynb",
   "output_path": "__notebook__.ipynb",
   "parameters": {},
   "start_time": "2024-03-14T13:10:31.171109",
   "version": "2.5.0"
  }
 },
 "nbformat": 4,
 "nbformat_minor": 5
}
